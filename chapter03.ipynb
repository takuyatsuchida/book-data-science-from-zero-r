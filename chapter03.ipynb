{
 "cells": [
  {
   "cell_type": "markdown",
   "id": "3e82059d",
   "metadata": {},
   "source": [
    "# 第3章 R と Python"
   ]
  },
  {
   "cell_type": "markdown",
   "id": "7ba8208a",
   "metadata": {},
   "source": [
    "## 3.1 入門"
   ]
  },
  {
   "cell_type": "markdown",
   "id": "8af918c0",
   "metadata": {},
   "source": [
    "### 3.1.1 数値"
   ]
  },
  {
   "cell_type": "code",
   "execution_count": 1,
   "id": "4d7eed03",
   "metadata": {
    "collapsed": false,
    "jupyter": {
     "outputs_hidden": false
    }
   },
   "outputs": [
    {
     "data": {
      "text/html": [
       "16"
      ],
      "text/latex": [
       "16"
      ],
      "text/markdown": [
       "16"
      ],
      "text/plain": [
       "[1] 16"
      ]
     },
     "metadata": {},
     "output_type": "display_data"
    }
   ],
   "source": [
    "0x10"
   ]
  },
  {
   "cell_type": "code",
   "execution_count": 2,
   "id": "6ab41908",
   "metadata": {
    "collapsed": false,
    "jupyter": {
     "outputs_hidden": false
    }
   },
   "outputs": [
    {
     "data": {
      "text/html": [
       "123000"
      ],
      "text/latex": [
       "123000"
      ],
      "text/markdown": [
       "123000"
      ],
      "text/plain": [
       "[1] 123000"
      ]
     },
     "metadata": {},
     "output_type": "display_data"
    }
   ],
   "source": [
    "1.23e5"
   ]
  },
  {
   "cell_type": "code",
   "execution_count": 3,
   "id": "1018bcb3",
   "metadata": {
    "collapsed": false,
    "jupyter": {
     "outputs_hidden": false
    }
   },
   "outputs": [
    {
     "data": {
      "text/html": [
       "6"
      ],
      "text/latex": [
       "6"
      ],
      "text/markdown": [
       "6"
      ],
      "text/plain": [
       "[1] 6"
      ]
     },
     "metadata": {},
     "output_type": "display_data"
    }
   ],
   "source": [
    "2 * 3"
   ]
  },
  {
   "cell_type": "code",
   "execution_count": 4,
   "id": "8ce80732",
   "metadata": {
    "collapsed": false,
    "jupyter": {
     "outputs_hidden": false
    }
   },
   "outputs": [
    {
     "data": {
      "text/html": [
       "3.33333333333333"
      ],
      "text/latex": [
       "3.33333333333333"
      ],
      "text/markdown": [
       "3.33333333333333"
      ],
      "text/plain": [
       "[1] 3.333333"
      ]
     },
     "metadata": {},
     "output_type": "display_data"
    }
   ],
   "source": [
    "10 / 3"
   ]
  },
  {
   "cell_type": "code",
   "execution_count": 5,
   "id": "1fe1dbda",
   "metadata": {
    "collapsed": false,
    "jupyter": {
     "outputs_hidden": false
    }
   },
   "outputs": [
    {
     "data": {
      "text/html": [
       "3"
      ],
      "text/latex": [
       "3"
      ],
      "text/markdown": [
       "3"
      ],
      "text/plain": [
       "[1] 3"
      ]
     },
     "metadata": {},
     "output_type": "display_data"
    }
   ],
   "source": [
    "10 %/% 3"
   ]
  },
  {
   "cell_type": "code",
   "execution_count": 6,
   "id": "73936786",
   "metadata": {
    "collapsed": false,
    "jupyter": {
     "outputs_hidden": false
    }
   },
   "outputs": [
    {
     "data": {
      "text/html": [
       "1"
      ],
      "text/latex": [
       "1"
      ],
      "text/markdown": [
       "1"
      ],
      "text/plain": [
       "[1] 1"
      ]
     },
     "metadata": {},
     "output_type": "display_data"
    }
   ],
   "source": [
    "10 %% 3"
   ]
  },
  {
   "cell_type": "markdown",
   "id": "1b1e41b1",
   "metadata": {},
   "source": [
    "### 3.1.2 変数"
   ]
  },
  {
   "cell_type": "code",
   "execution_count": 7,
   "id": "4882db19",
   "metadata": {
    "collapsed": false,
    "jupyter": {
     "outputs_hidden": false
    }
   },
   "outputs": [
    {
     "data": {
      "text/html": [
       "6"
      ],
      "text/latex": [
       "6"
      ],
      "text/markdown": [
       "6"
      ],
      "text/plain": [
       "[1] 6"
      ]
     },
     "metadata": {},
     "output_type": "display_data"
    }
   ],
   "source": [
    "x <- 2\n",
    "y <- 3\n",
    "x * y"
   ]
  },
  {
   "cell_type": "code",
   "execution_count": 8,
   "id": "748fa8aa",
   "metadata": {
    "collapsed": false,
    "jupyter": {
     "outputs_hidden": false
    }
   },
   "outputs": [
    {
     "data": {
      "text/html": [
       "600"
      ],
      "text/latex": [
       "600"
      ],
      "text/markdown": [
       "600"
      ],
      "text/plain": [
       "[1] 600"
      ]
     },
     "metadata": {},
     "output_type": "display_data"
    }
   ],
   "source": [
    "library(keras)\n",
    "c(x, y) %<-% c(20, 30)\n",
    "x * y"
   ]
  },
  {
   "cell_type": "code",
   "execution_count": 9,
   "id": "2b71a50d",
   "metadata": {
    "collapsed": false,
    "jupyter": {
     "outputs_hidden": false
    }
   },
   "outputs": [
    {
     "data": {
      "text/html": [
       "2"
      ],
      "text/latex": [
       "2"
      ],
      "text/markdown": [
       "2"
      ],
      "text/plain": [
       "[1] 2"
      ]
     },
     "metadata": {},
     "output_type": "display_data"
    }
   ],
   "source": [
    "x <- 1 + 1\n",
    "x"
   ]
  },
  {
   "cell_type": "markdown",
   "id": "e067dd05",
   "metadata": {},
   "source": [
    "### 3.1.3 文字列"
   ]
  },
  {
   "cell_type": "code",
   "execution_count": 10,
   "id": "0c49f4cf",
   "metadata": {
    "collapsed": false,
    "jupyter": {
     "outputs_hidden": false
    }
   },
   "outputs": [],
   "source": [
    "my_s <- \"abcde\""
   ]
  },
  {
   "cell_type": "code",
   "execution_count": 11,
   "id": "bed2d013",
   "metadata": {
    "collapsed": false,
    "jupyter": {
     "outputs_hidden": false
    }
   },
   "outputs": [
    {
     "data": {
      "text/html": [
       "5"
      ],
      "text/latex": [
       "5"
      ],
      "text/markdown": [
       "5"
      ],
      "text/plain": [
       "[1] 5"
      ]
     },
     "metadata": {},
     "output_type": "display_data"
    }
   ],
   "source": [
    "nchar(my_s)"
   ]
  },
  {
   "cell_type": "code",
   "execution_count": 12,
   "id": "de574b0c",
   "metadata": {
    "collapsed": false,
    "jupyter": {
     "outputs_hidden": false
    }
   },
   "outputs": [
    {
     "name": "stderr",
     "output_type": "stream",
     "text": [
      "── \u001b[1mAttaching packages\u001b[22m ────────────────────────────────────────────────────────────────────────────────────────────────────────────────────────────────────────────────────────────────────────────────────────────────────────── tidyverse 1.3.2 ──\n",
      "\u001b[32m✔\u001b[39m \u001b[34mggplot2\u001b[39m 3.4.0      \u001b[32m✔\u001b[39m \u001b[34mpurrr  \u001b[39m 1.0.0 \n",
      "\u001b[32m✔\u001b[39m \u001b[34mtibble \u001b[39m 3.1.8      \u001b[32m✔\u001b[39m \u001b[34mdplyr  \u001b[39m 1.0.10\n",
      "\u001b[32m✔\u001b[39m \u001b[34mtidyr  \u001b[39m 1.2.1      \u001b[32m✔\u001b[39m \u001b[34mstringr\u001b[39m 1.5.0 \n",
      "\u001b[32m✔\u001b[39m \u001b[34mreadr  \u001b[39m 2.1.3      \u001b[32m✔\u001b[39m \u001b[34mforcats\u001b[39m 0.5.2 \n",
      "── \u001b[1mConflicts\u001b[22m ───────────────────────────────────────────────────────────────────────────────────────────────────────────────────────────────────────────────────────────────────────────────────────────────────────────── tidyverse_conflicts() ──\n",
      "\u001b[31m✖\u001b[39m \u001b[34mdplyr\u001b[39m::\u001b[32mfilter()\u001b[39m masks \u001b[34mstats\u001b[39m::filter()\n",
      "\u001b[31m✖\u001b[39m \u001b[34mdplyr\u001b[39m::\u001b[32mlag()\u001b[39m    masks \u001b[34mstats\u001b[39m::lag()\n"
     ]
    },
    {
     "data": {
      "text/html": [
       "'This is a pen.'"
      ],
      "text/latex": [
       "'This is a pen.'"
      ],
      "text/markdown": [
       "'This is a pen.'"
      ],
      "text/plain": [
       "[1] \"This is a pen.\""
      ]
     },
     "metadata": {},
     "output_type": "display_data"
    }
   ],
   "source": [
    "library(tidyverse)\n",
    "str_c(\"This is \", \"a\", \" pen.\")"
   ]
  },
  {
   "cell_type": "code",
   "execution_count": 13,
   "id": "46e79150",
   "metadata": {
    "collapsed": false,
    "jupyter": {
     "outputs_hidden": false
    }
   },
   "outputs": [
    {
     "data": {
      "text/html": [
       "'bcd'"
      ],
      "text/latex": [
       "'bcd'"
      ],
      "text/markdown": [
       "'bcd'"
      ],
      "text/plain": [
       "[1] \"bcd\""
      ]
     },
     "metadata": {},
     "output_type": "display_data"
    }
   ],
   "source": [
    "substr(x = my_s, start = 2, stop = 4)"
   ]
  },
  {
   "cell_type": "code",
   "execution_count": 14,
   "id": "cf570a89",
   "metadata": {
    "collapsed": false,
    "jupyter": {
     "outputs_hidden": false
    }
   },
   "outputs": [
    {
     "data": {
      "text/html": [
       "'This is a pen.'"
      ],
      "text/latex": [
       "'This is a pen.'"
      ],
      "text/markdown": [
       "'This is a pen.'"
      ],
      "text/plain": [
       "[1] \"This is a pen.\""
      ]
     },
     "metadata": {},
     "output_type": "display_data"
    }
   ],
   "source": [
    "tmp <- \"%s is %s.\"\n",
    "sprintf(tmp, \"This\", \"a pen\")"
   ]
  },
  {
   "cell_type": "markdown",
   "id": "0603fcfb",
   "metadata": {},
   "source": [
    "### 3.1.4 論理値と条件演算"
   ]
  },
  {
   "cell_type": "code",
   "execution_count": 15,
   "id": "57d11e06",
   "metadata": {
    "collapsed": false,
    "jupyter": {
     "outputs_hidden": false
    }
   },
   "outputs": [
    {
     "data": {
      "text/html": [
       "TRUE"
      ],
      "text/latex": [
       "TRUE"
      ],
      "text/markdown": [
       "TRUE"
      ],
      "text/plain": [
       "[1] TRUE"
      ]
     },
     "metadata": {},
     "output_type": "display_data"
    }
   ],
   "source": [
    "1 <= 2"
   ]
  },
  {
   "cell_type": "code",
   "execution_count": 16,
   "id": "422f2cf9",
   "metadata": {
    "collapsed": false,
    "jupyter": {
     "outputs_hidden": false
    }
   },
   "outputs": [
    {
     "data": {
      "text/html": [
       "FALSE"
      ],
      "text/latex": [
       "FALSE"
      ],
      "text/markdown": [
       "FALSE"
      ],
      "text/plain": [
       "[1] FALSE"
      ]
     },
     "metadata": {},
     "output_type": "display_data"
    }
   ],
   "source": [
    "1 < 0"
   ]
  },
  {
   "cell_type": "code",
   "execution_count": 17,
   "id": "6c45150b",
   "metadata": {
    "collapsed": false,
    "jupyter": {
     "outputs_hidden": false
    }
   },
   "outputs": [
    {
     "data": {
      "text/html": [
       "FALSE"
      ],
      "text/latex": [
       "FALSE"
      ],
      "text/markdown": [
       "FALSE"
      ],
      "text/plain": [
       "[1] FALSE"
      ]
     },
     "metadata": {},
     "output_type": "display_data"
    }
   ],
   "source": [
    "0.1 + 0.1 + 0.1 == 0.3"
   ]
  },
  {
   "cell_type": "code",
   "execution_count": 18,
   "id": "ad764463",
   "metadata": {
    "collapsed": false,
    "jupyter": {
     "outputs_hidden": false
    }
   },
   "outputs": [
    {
     "data": {
      "text/html": [
       "TRUE"
      ],
      "text/latex": [
       "TRUE"
      ],
      "text/markdown": [
       "TRUE"
      ],
      "text/plain": [
       "[1] TRUE"
      ]
     },
     "metadata": {},
     "output_type": "display_data"
    }
   ],
   "source": [
    "all.equal(0.1 + 0.1 + 0.1, 0.3)"
   ]
  },
  {
   "cell_type": "code",
   "execution_count": 19,
   "id": "1d767e83",
   "metadata": {
    "collapsed": false,
    "jupyter": {
     "outputs_hidden": false
    }
   },
   "outputs": [
    {
     "data": {
      "text/html": [
       "FALSE"
      ],
      "text/latex": [
       "FALSE"
      ],
      "text/markdown": [
       "FALSE"
      ],
      "text/plain": [
       "[1] FALSE"
      ]
     },
     "metadata": {},
     "output_type": "display_data"
    }
   ],
   "source": [
    "TRUE & FALSE"
   ]
  },
  {
   "cell_type": "code",
   "execution_count": 20,
   "id": "61942dc4",
   "metadata": {
    "collapsed": false,
    "jupyter": {
     "outputs_hidden": false
    }
   },
   "outputs": [
    {
     "data": {
      "text/html": [
       "TRUE"
      ],
      "text/latex": [
       "TRUE"
      ],
      "text/markdown": [
       "TRUE"
      ],
      "text/plain": [
       "[1] TRUE"
      ]
     },
     "metadata": {},
     "output_type": "display_data"
    }
   ],
   "source": [
    "TRUE | FALSE"
   ]
  },
  {
   "cell_type": "code",
   "execution_count": 21,
   "id": "dc057a5a",
   "metadata": {
    "collapsed": false,
    "jupyter": {
     "outputs_hidden": false
    }
   },
   "outputs": [
    {
     "data": {
      "text/html": [
       "FALSE"
      ],
      "text/latex": [
       "FALSE"
      ],
      "text/markdown": [
       "FALSE"
      ],
      "text/plain": [
       "[1] FALSE"
      ]
     },
     "metadata": {},
     "output_type": "display_data"
    }
   ],
   "source": [
    "!TRUE"
   ]
  },
  {
   "cell_type": "code",
   "execution_count": 22,
   "id": "ff0cd26f",
   "metadata": {
    "collapsed": false,
    "jupyter": {
     "outputs_hidden": false
    }
   },
   "outputs": [
    {
     "data": {
      "text/html": [
       "0"
      ],
      "text/latex": [
       "0"
      ],
      "text/markdown": [
       "0"
      ],
      "text/plain": [
       "[1] 0"
      ]
     },
     "metadata": {},
     "output_type": "display_data"
    }
   ],
   "source": [
    "ifelse(3 < 5, 0, 10)"
   ]
  },
  {
   "cell_type": "markdown",
   "id": "2289e2dc",
   "metadata": {},
   "source": [
    "### 3.1.5 作業ディレクトリ"
   ]
  },
  {
   "cell_type": "code",
   "execution_count": 23,
   "id": "41e088cd",
   "metadata": {
    "collapsed": false,
    "jupyter": {
     "outputs_hidden": false
    }
   },
   "outputs": [
    {
     "data": {
      "text/html": [
       "'/Users/takuyatsuchida/Documents/R/book-data-science-from-zero-r'"
      ],
      "text/latex": [
       "'/Users/takuyatsuchida/Documents/R/book-data-science-from-zero-r'"
      ],
      "text/markdown": [
       "'/Users/takuyatsuchida/Documents/R/book-data-science-from-zero-r'"
      ],
      "text/plain": [
       "[1] \"/Users/takuyatsuchida/Documents/R/book-data-science-from-zero-r\""
      ]
     },
     "metadata": {},
     "output_type": "display_data"
    }
   ],
   "source": [
    "getwd()"
   ]
  },
  {
   "cell_type": "code",
   "execution_count": 24,
   "id": "2a544547",
   "metadata": {
    "collapsed": false,
    "jupyter": {
     "outputs_hidden": false
    }
   },
   "outputs": [
    {
     "data": {
      "text/html": [
       "'/Users/takuyatsuchida/Documents/R'"
      ],
      "text/latex": [
       "'/Users/takuyatsuchida/Documents/R'"
      ],
      "text/markdown": [
       "'/Users/takuyatsuchida/Documents/R'"
      ],
      "text/plain": [
       "[1] \"/Users/takuyatsuchida/Documents/R\""
      ]
     },
     "metadata": {},
     "output_type": "display_data"
    }
   ],
   "source": [
    "setwd(\"..\")\n",
    "getwd()"
   ]
  },
  {
   "cell_type": "markdown",
   "id": "9d440f7c",
   "metadata": {},
   "source": [
    "## 3.2 関数"
   ]
  },
  {
   "cell_type": "markdown",
   "id": "7225af4e",
   "metadata": {},
   "source": [
    "### 3.2.1 関数の利用"
   ]
  },
  {
   "cell_type": "code",
   "execution_count": 25,
   "id": "4c6e8400",
   "metadata": {
    "collapsed": false,
    "jupyter": {
     "outputs_hidden": false
    }
   },
   "outputs": [
    {
     "data": {
      "text/html": [
       "2"
      ],
      "text/latex": [
       "2"
      ],
      "text/markdown": [
       "2"
      ],
      "text/plain": [
       "[1] 2"
      ]
     },
     "metadata": {},
     "output_type": "display_data"
    }
   ],
   "source": [
    "sqrt(4)"
   ]
  },
  {
   "cell_type": "code",
   "execution_count": 26,
   "id": "db9fc8d6",
   "metadata": {
    "collapsed": false,
    "jupyter": {
     "outputs_hidden": false
    }
   },
   "outputs": [
    {
     "data": {
      "text/html": [
       "2"
      ],
      "text/latex": [
       "2"
      ],
      "text/markdown": [
       "2"
      ],
      "text/plain": [
       "[1] 2"
      ]
     },
     "metadata": {},
     "output_type": "display_data"
    }
   ],
   "source": [
    "log(100, 10)"
   ]
  },
  {
   "cell_type": "code",
   "execution_count": 27,
   "id": "13f9edc5",
   "metadata": {
    "collapsed": false,
    "jupyter": {
     "outputs_hidden": false
    }
   },
   "outputs": [
    {
     "data": {
      "text/html": [
       "4.60517018598809"
      ],
      "text/latex": [
       "4.60517018598809"
      ],
      "text/markdown": [
       "4.60517018598809"
      ],
      "text/plain": [
       "[1] 4.60517"
      ]
     },
     "metadata": {},
     "output_type": "display_data"
    }
   ],
   "source": [
    "log(100)"
   ]
  },
  {
   "cell_type": "code",
   "execution_count": 28,
   "id": "46699568",
   "metadata": {
    "collapsed": false,
    "jupyter": {
     "outputs_hidden": false
    }
   },
   "outputs": [
    {
     "data": {
      "text/html": [
       "2"
      ],
      "text/latex": [
       "2"
      ],
      "text/markdown": [
       "2"
      ],
      "text/plain": [
       "[1] 2"
      ]
     },
     "metadata": {},
     "output_type": "display_data"
    }
   ],
   "source": [
    "log10(100)"
   ]
  },
  {
   "cell_type": "code",
   "execution_count": 29,
   "id": "bc5ecfe3",
   "metadata": {
    "collapsed": false,
    "jupyter": {
     "outputs_hidden": false
    }
   },
   "outputs": [
    {
     "data": {
      "text/html": [
       "10"
      ],
      "text/latex": [
       "10"
      ],
      "text/markdown": [
       "10"
      ],
      "text/plain": [
       "[1] 10"
      ]
     },
     "metadata": {},
     "output_type": "display_data"
    }
   ],
   "source": [
    "log2(1024)"
   ]
  },
  {
   "cell_type": "markdown",
   "id": "6dc4c5a3",
   "metadata": {},
   "source": [
    "#### 3.2.1.1 パイプ（R のみ）"
   ]
  },
  {
   "cell_type": "code",
   "execution_count": 30,
   "id": "930b9c5c",
   "metadata": {
    "collapsed": false,
    "jupyter": {
     "outputs_hidden": false
    }
   },
   "outputs": [
    {
     "data": {
      "text/html": [
       "2"
      ],
      "text/latex": [
       "2"
      ],
      "text/markdown": [
       "2"
      ],
      "text/plain": [
       "[1] 2"
      ]
     },
     "metadata": {},
     "output_type": "display_data"
    }
   ],
   "source": [
    "library(tidyverse)\n",
    "4 %>% sqrt"
   ]
  },
  {
   "cell_type": "code",
   "execution_count": 31,
   "id": "65a1e985",
   "metadata": {
    "collapsed": false,
    "jupyter": {
     "outputs_hidden": false
    }
   },
   "outputs": [
    {
     "data": {
      "text/html": [
       "5"
      ],
      "text/latex": [
       "5"
      ],
      "text/markdown": [
       "5"
      ],
      "text/plain": [
       "[1] 5"
      ]
     },
     "metadata": {},
     "output_type": "display_data"
    }
   ],
   "source": [
    "exp(log(5))"
   ]
  },
  {
   "cell_type": "code",
   "execution_count": 32,
   "id": "369d6a59",
   "metadata": {
    "collapsed": false,
    "jupyter": {
     "outputs_hidden": false
    }
   },
   "outputs": [
    {
     "data": {
      "text/html": [
       "5"
      ],
      "text/latex": [
       "5"
      ],
      "text/markdown": [
       "5"
      ],
      "text/plain": [
       "[1] 5"
      ]
     },
     "metadata": {},
     "output_type": "display_data"
    }
   ],
   "source": [
    "5 %>% log %>% exp"
   ]
  },
  {
   "cell_type": "markdown",
   "id": "985a2a73",
   "metadata": {},
   "source": [
    "### 3.2.2 関数の定義"
   ]
  },
  {
   "cell_type": "code",
   "execution_count": 33,
   "id": "8d5bafad",
   "metadata": {
    "collapsed": false,
    "jupyter": {
     "outputs_hidden": false
    }
   },
   "outputs": [],
   "source": [
    "f <- function(a, b) {\n",
    "  a - b\n",
    "}"
   ]
  },
  {
   "cell_type": "code",
   "execution_count": 34,
   "id": "12520586",
   "metadata": {
    "collapsed": false,
    "jupyter": {
     "outputs_hidden": false
    }
   },
   "outputs": [
    {
     "data": {
      "text/html": [
       "-2"
      ],
      "text/latex": [
       "-2"
      ],
      "text/markdown": [
       "-2"
      ],
      "text/plain": [
       "[1] -2"
      ]
     },
     "metadata": {},
     "output_type": "display_data"
    }
   ],
   "source": [
    "f(3, 5)"
   ]
  },
  {
   "cell_type": "markdown",
   "id": "3b5ac8a6",
   "metadata": {},
   "source": [
    "#### 3.2.2.1 デフォルト引数"
   ]
  },
  {
   "cell_type": "code",
   "execution_count": 35,
   "id": "a6229fca",
   "metadata": {
    "collapsed": false,
    "jupyter": {
     "outputs_hidden": false
    }
   },
   "outputs": [
    {
     "data": {
      "text/html": [
       "-2"
      ],
      "text/latex": [
       "-2"
      ],
      "text/markdown": [
       "-2"
      ],
      "text/plain": [
       "[1] -2"
      ]
     },
     "metadata": {},
     "output_type": "display_data"
    }
   ],
   "source": [
    "f <- function(a, b = 5) {\n",
    "  a - b\n",
    "}\n",
    "f(3)"
   ]
  },
  {
   "cell_type": "markdown",
   "id": "f16e2b70",
   "metadata": {},
   "source": [
    "#### 3.2.2.2 無名関数"
   ]
  },
  {
   "cell_type": "code",
   "execution_count": 36,
   "id": "376430ec",
   "metadata": {
    "collapsed": false,
    "jupyter": {
     "outputs_hidden": false
    }
   },
   "outputs": [
    {
     "data": {
      "text/html": [
       "-2"
      ],
      "text/latex": [
       "-2"
      ],
      "text/markdown": [
       "-2"
      ],
      "text/plain": [
       "[1] -2"
      ]
     },
     "metadata": {},
     "output_type": "display_data"
    }
   ],
   "source": [
    "(function(a, b) { a - b })(3, 5)"
   ]
  },
  {
   "cell_type": "markdown",
   "id": "598c605a",
   "metadata": {},
   "source": [
    "## 3.3 コレクション"
   ]
  },
  {
   "cell_type": "markdown",
   "id": "08a9bed3",
   "metadata": {},
   "source": [
    "### 3.3.1 1次元データ"
   ]
  },
  {
   "cell_type": "code",
   "execution_count": 37,
   "id": "05ee8bc8",
   "metadata": {
    "collapsed": false,
    "jupyter": {
     "outputs_hidden": false
    }
   },
   "outputs": [],
   "source": [
    "x <- c(\"foo\", \"bar\", \"baz\")"
   ]
  },
  {
   "cell_type": "code",
   "execution_count": 38,
   "id": "c9f76d8b",
   "metadata": {
    "collapsed": false,
    "jupyter": {
     "outputs_hidden": false
    }
   },
   "outputs": [
    {
     "data": {
      "text/html": [
       "3"
      ],
      "text/latex": [
       "3"
      ],
      "text/markdown": [
       "3"
      ],
      "text/plain": [
       "[1] 3"
      ]
     },
     "metadata": {},
     "output_type": "display_data"
    }
   ],
   "source": [
    "length(x)"
   ]
  },
  {
   "cell_type": "code",
   "execution_count": 39,
   "id": "6f999c1c",
   "metadata": {
    "collapsed": false,
    "jupyter": {
     "outputs_hidden": false
    }
   },
   "outputs": [
    {
     "data": {
      "text/html": [
       "'bar'"
      ],
      "text/latex": [
       "'bar'"
      ],
      "text/markdown": [
       "'bar'"
      ],
      "text/plain": [
       "[1] \"bar\""
      ]
     },
     "metadata": {},
     "output_type": "display_data"
    }
   ],
   "source": [
    "x[2]"
   ]
  },
  {
   "cell_type": "code",
   "execution_count": 40,
   "id": "aed9f093",
   "metadata": {
    "collapsed": false,
    "jupyter": {
     "outputs_hidden": false
    }
   },
   "outputs": [
    {
     "data": {
      "text/html": [
       "<style>\n",
       ".list-inline {list-style: none; margin:0; padding: 0}\n",
       ".list-inline>li {display: inline-block}\n",
       ".list-inline>li:not(:last-child)::after {content: \"\\00b7\"; padding: 0 .5ex}\n",
       "</style>\n",
       "<ol class=list-inline><li>'foo'</li><li>'BAR'</li><li>'baz'</li></ol>\n"
      ],
      "text/latex": [
       "\\begin{enumerate*}\n",
       "\\item 'foo'\n",
       "\\item 'BAR'\n",
       "\\item 'baz'\n",
       "\\end{enumerate*}\n"
      ],
      "text/markdown": [
       "1. 'foo'\n",
       "2. 'BAR'\n",
       "3. 'baz'\n",
       "\n",
       "\n"
      ],
      "text/plain": [
       "[1] \"foo\" \"BAR\" \"baz\""
      ]
     },
     "metadata": {},
     "output_type": "display_data"
    }
   ],
   "source": [
    "x[2] <- \"BAR\"\n",
    "x"
   ]
  },
  {
   "cell_type": "code",
   "execution_count": 41,
   "id": "77b95833",
   "metadata": {
    "collapsed": false,
    "jupyter": {
     "outputs_hidden": false
    }
   },
   "outputs": [],
   "source": [
    "x[2] <- \"bar\""
   ]
  },
  {
   "cell_type": "code",
   "execution_count": 42,
   "id": "edf162e5",
   "metadata": {
    "collapsed": false,
    "jupyter": {
     "outputs_hidden": false
    }
   },
   "outputs": [
    {
     "data": {
      "text/html": [
       "<style>\n",
       ".list-inline {list-style: none; margin:0; padding: 0}\n",
       ".list-inline>li {display: inline-block}\n",
       ".list-inline>li:not(:last-child)::after {content: \"\\00b7\"; padding: 0 .5ex}\n",
       "</style>\n",
       "<ol class=list-inline><li>'foo'</li><li>'baz'</li></ol>\n"
      ],
      "text/latex": [
       "\\begin{enumerate*}\n",
       "\\item 'foo'\n",
       "\\item 'baz'\n",
       "\\end{enumerate*}\n"
      ],
      "text/markdown": [
       "1. 'foo'\n",
       "2. 'baz'\n",
       "\n",
       "\n"
      ],
      "text/plain": [
       "[1] \"foo\" \"baz\""
      ]
     },
     "metadata": {},
     "output_type": "display_data"
    }
   ],
   "source": [
    "x[-2]"
   ]
  },
  {
   "cell_type": "code",
   "execution_count": 43,
   "id": "18aa896e",
   "metadata": {
    "collapsed": false,
    "jupyter": {
     "outputs_hidden": false
    }
   },
   "outputs": [
    {
     "data": {
      "text/html": [
       "<style>\n",
       ".list-inline {list-style: none; margin:0; padding: 0}\n",
       ".list-inline>li {display: inline-block}\n",
       ".list-inline>li:not(:last-child)::after {content: \"\\00b7\"; padding: 0 .5ex}\n",
       "</style>\n",
       "<ol class=list-inline><li>'foo'</li><li>'bar'</li><li>'baz'</li><li>'qux'</li></ol>\n"
      ],
      "text/latex": [
       "\\begin{enumerate*}\n",
       "\\item 'foo'\n",
       "\\item 'bar'\n",
       "\\item 'baz'\n",
       "\\item 'qux'\n",
       "\\end{enumerate*}\n"
      ],
      "text/markdown": [
       "1. 'foo'\n",
       "2. 'bar'\n",
       "3. 'baz'\n",
       "4. 'qux'\n",
       "\n",
       "\n"
      ],
      "text/plain": [
       "[1] \"foo\" \"bar\" \"baz\" \"qux\""
      ]
     },
     "metadata": {},
     "output_type": "display_data"
    }
   ],
   "source": [
    "c(x, \"qux\")"
   ]
  },
  {
   "cell_type": "code",
   "execution_count": 44,
   "id": "e181223b",
   "metadata": {
    "collapsed": false,
    "jupyter": {
     "outputs_hidden": false
    }
   },
   "outputs": [
    {
     "data": {
      "text/html": [
       "<style>\n",
       ".list-inline {list-style: none; margin:0; padding: 0}\n",
       ".list-inline>li {display: inline-block}\n",
       ".list-inline>li:not(:last-child)::after {content: \"\\00b7\"; padding: 0 .5ex}\n",
       "</style>\n",
       "<ol class=list-inline><li>'foo'</li><li>'bar'</li><li>'baz'</li><li>'qux'</li></ol>\n"
      ],
      "text/latex": [
       "\\begin{enumerate*}\n",
       "\\item 'foo'\n",
       "\\item 'bar'\n",
       "\\item 'baz'\n",
       "\\item 'qux'\n",
       "\\end{enumerate*}\n"
      ],
      "text/markdown": [
       "1. 'foo'\n",
       "2. 'bar'\n",
       "3. 'baz'\n",
       "4. 'qux'\n",
       "\n",
       "\n"
      ],
      "text/plain": [
       "[1] \"foo\" \"bar\" \"baz\" \"qux\""
      ]
     },
     "metadata": {},
     "output_type": "display_data"
    }
   ],
   "source": [
    "x <- c(x, \"qux\")\n",
    "x"
   ]
  },
  {
   "cell_type": "markdown",
   "id": "9d6139ca",
   "metadata": {},
   "source": [
    "#### 3.3.1.1 等間隔の数値からなる1次元データ"
   ]
  },
  {
   "cell_type": "code",
   "execution_count": 45,
   "id": "031e3590",
   "metadata": {
    "collapsed": false,
    "jupyter": {
     "outputs_hidden": false
    }
   },
   "outputs": [
    {
     "data": {
      "text/html": [
       "<style>\n",
       ".list-inline {list-style: none; margin:0; padding: 0}\n",
       ".list-inline>li {display: inline-block}\n",
       ".list-inline>li:not(:last-child)::after {content: \"\\00b7\"; padding: 0 .5ex}\n",
       "</style>\n",
       "<ol class=list-inline><li>1</li><li>2</li><li>3</li><li>4</li><li>5</li></ol>\n"
      ],
      "text/latex": [
       "\\begin{enumerate*}\n",
       "\\item 1\n",
       "\\item 2\n",
       "\\item 3\n",
       "\\item 4\n",
       "\\item 5\n",
       "\\end{enumerate*}\n"
      ],
      "text/markdown": [
       "1. 1\n",
       "2. 2\n",
       "3. 3\n",
       "4. 4\n",
       "5. 5\n",
       "\n",
       "\n"
      ],
      "text/plain": [
       "[1] 1 2 3 4 5"
      ]
     },
     "metadata": {},
     "output_type": "display_data"
    }
   ],
   "source": [
    "1:5"
   ]
  },
  {
   "cell_type": "code",
   "execution_count": 46,
   "id": "a3de69c4",
   "metadata": {
    "collapsed": false,
    "jupyter": {
     "outputs_hidden": false
    }
   },
   "outputs": [
    {
     "data": {
      "text/html": [
       "<style>\n",
       ".list-inline {list-style: none; margin:0; padding: 0}\n",
       ".list-inline>li {display: inline-block}\n",
       ".list-inline>li:not(:last-child)::after {content: \"\\00b7\"; padding: 0 .5ex}\n",
       "</style>\n",
       "<ol class=list-inline><li>0</li><li>2</li><li>4</li><li>6</li><li>8</li><li>10</li></ol>\n"
      ],
      "text/latex": [
       "\\begin{enumerate*}\n",
       "\\item 0\n",
       "\\item 2\n",
       "\\item 4\n",
       "\\item 6\n",
       "\\item 8\n",
       "\\item 10\n",
       "\\end{enumerate*}\n"
      ],
      "text/markdown": [
       "1. 0\n",
       "2. 2\n",
       "3. 4\n",
       "4. 6\n",
       "5. 8\n",
       "6. 10\n",
       "\n",
       "\n"
      ],
      "text/plain": [
       "[1]  0  2  4  6  8 10"
      ]
     },
     "metadata": {},
     "output_type": "display_data"
    }
   ],
   "source": [
    "seq(from = 0, to = 10, by = 2)"
   ]
  },
  {
   "cell_type": "code",
   "execution_count": 47,
   "id": "9ad8940e",
   "metadata": {
    "collapsed": false,
    "jupyter": {
     "outputs_hidden": false
    }
   },
   "outputs": [
    {
     "data": {
      "text/html": [
       "<style>\n",
       ".list-inline {list-style: none; margin:0; padding: 0}\n",
       ".list-inline>li {display: inline-block}\n",
       ".list-inline>li:not(:last-child)::after {content: \"\\00b7\"; padding: 0 .5ex}\n",
       "</style>\n",
       "<ol class=list-inline><li>0</li><li>0.5</li><li>1</li></ol>\n"
      ],
      "text/latex": [
       "\\begin{enumerate*}\n",
       "\\item 0\n",
       "\\item 0.5\n",
       "\\item 1\n",
       "\\end{enumerate*}\n"
      ],
      "text/markdown": [
       "1. 0\n",
       "2. 0.5\n",
       "3. 1\n",
       "\n",
       "\n"
      ],
      "text/plain": [
       "[1] 0.0 0.5 1.0"
      ]
     },
     "metadata": {},
     "output_type": "display_data"
    }
   ],
   "source": [
    "seq(from = 0, to = 1, by = 0.5)"
   ]
  },
  {
   "cell_type": "code",
   "execution_count": 48,
   "id": "91f1ddc0",
   "metadata": {
    "collapsed": false,
    "jupyter": {
     "outputs_hidden": false
    }
   },
   "outputs": [
    {
     "data": {
      "text/html": [
       "<style>\n",
       ".list-inline {list-style: none; margin:0; padding: 0}\n",
       ".list-inline>li {display: inline-block}\n",
       ".list-inline>li:not(:last-child)::after {content: \"\\00b7\"; padding: 0 .5ex}\n",
       "</style>\n",
       "<ol class=list-inline><li>0</li><li>25</li><li>50</li><li>75</li><li>100</li></ol>\n"
      ],
      "text/latex": [
       "\\begin{enumerate*}\n",
       "\\item 0\n",
       "\\item 25\n",
       "\\item 50\n",
       "\\item 75\n",
       "\\item 100\n",
       "\\end{enumerate*}\n"
      ],
      "text/markdown": [
       "1. 0\n",
       "2. 25\n",
       "3. 50\n",
       "4. 75\n",
       "5. 100\n",
       "\n",
       "\n"
      ],
      "text/plain": [
       "[1]   0  25  50  75 100"
      ]
     },
     "metadata": {},
     "output_type": "display_data"
    }
   ],
   "source": [
    "seq(from = 0, to = 100, length.out = 5)"
   ]
  },
  {
   "cell_type": "code",
   "execution_count": 49,
   "id": "f320c539",
   "metadata": {
    "collapsed": false,
    "jupyter": {
     "outputs_hidden": false
    }
   },
   "outputs": [
    {
     "data": {
      "text/html": [
       "<style>\n",
       ".list-inline {list-style: none; margin:0; padding: 0}\n",
       ".list-inline>li {display: inline-block}\n",
       ".list-inline>li:not(:last-child)::after {content: \"\\00b7\"; padding: 0 .5ex}\n",
       "</style>\n",
       "<ol class=list-inline><li>10</li><li>10</li><li>10</li><li>10</li><li>10</li></ol>\n"
      ],
      "text/latex": [
       "\\begin{enumerate*}\n",
       "\\item 10\n",
       "\\item 10\n",
       "\\item 10\n",
       "\\item 10\n",
       "\\item 10\n",
       "\\end{enumerate*}\n"
      ],
      "text/markdown": [
       "1. 10\n",
       "2. 10\n",
       "3. 10\n",
       "4. 10\n",
       "5. 10\n",
       "\n",
       "\n"
      ],
      "text/plain": [
       "[1] 10 10 10 10 10"
      ]
     },
     "metadata": {},
     "output_type": "display_data"
    }
   ],
   "source": [
    "rep(x = 10, times = 5)"
   ]
  },
  {
   "cell_type": "markdown",
   "id": "2933f9bf",
   "metadata": {},
   "source": [
    "#### 3.3.1.2 ファクタ（R のみ）"
   ]
  },
  {
   "cell_type": "code",
   "execution_count": 50,
   "id": "f8c76873",
   "metadata": {
    "collapsed": false,
    "jupyter": {
     "outputs_hidden": false
    }
   },
   "outputs": [
    {
     "data": {
      "text/html": [
       "<style>\n",
       ".list-inline {list-style: none; margin:0; padding: 0}\n",
       ".list-inline>li {display: inline-block}\n",
       ".list-inline>li:not(:last-child)::after {content: \"\\00b7\"; padding: 0 .5ex}\n",
       "</style>\n",
       "<ol class=list-inline><li>グー</li><li>パー</li><li>グー</li><li>パー</li></ol>\n",
       "\n",
       "<details>\n",
       "\t<summary style=display:list-item;cursor:pointer>\n",
       "\t\t<strong>Levels</strong>:\n",
       "\t</summary>\n",
       "\t<style>\n",
       "\t.list-inline {list-style: none; margin:0; padding: 0}\n",
       "\t.list-inline>li {display: inline-block}\n",
       "\t.list-inline>li:not(:last-child)::after {content: \"\\00b7\"; padding: 0 .5ex}\n",
       "\t</style>\n",
       "\t<ol class=list-inline><li>'グー'</li><li>'チョキ'</li><li>'パー'</li></ol>\n",
       "</details>"
      ],
      "text/latex": [
       "\\begin{enumerate*}\n",
       "\\item グー\n",
       "\\item パー\n",
       "\\item グー\n",
       "\\item パー\n",
       "\\end{enumerate*}\n",
       "\n",
       "\\emph{Levels}: \\begin{enumerate*}\n",
       "\\item 'グー'\n",
       "\\item 'チョキ'\n",
       "\\item 'パー'\n",
       "\\end{enumerate*}\n"
      ],
      "text/markdown": [
       "1. グー\n",
       "2. パー\n",
       "3. グー\n",
       "4. パー\n",
       "\n",
       "\n",
       "\n",
       "**Levels**: 1. 'グー'\n",
       "2. 'チョキ'\n",
       "3. 'パー'\n",
       "\n",
       "\n"
      ],
      "text/plain": [
       "[1] グー パー グー パー\n",
       "Levels: グー チョキ パー"
      ]
     },
     "metadata": {},
     "output_type": "display_data"
    }
   ],
   "source": [
    "tmp <- c(\"グー\", \"パー\", \"グー\", \"パー\")\n",
    "x <- factor(tmp, levels = c(\"グー\", \"チョキ\", \"パー\"))\n",
    "x"
   ]
  },
  {
   "cell_type": "markdown",
   "id": "140288e5",
   "metadata": {},
   "source": [
    "### 3.3.2 1次元データの演算"
   ]
  },
  {
   "cell_type": "code",
   "execution_count": 51,
   "id": "e4150033",
   "metadata": {
    "collapsed": false,
    "jupyter": {
     "outputs_hidden": false
    }
   },
   "outputs": [
    {
     "data": {
      "text/html": [
       "<style>\n",
       ".list-inline {list-style: none; margin:0; padding: 0}\n",
       ".list-inline>li {display: inline-block}\n",
       ".list-inline>li:not(:last-child)::after {content: \"\\00b7\"; padding: 0 .5ex}\n",
       "</style>\n",
       "<ol class=list-inline><li>12</li><li>13</li><li>15</li><li>17</li></ol>\n"
      ],
      "text/latex": [
       "\\begin{enumerate*}\n",
       "\\item 12\n",
       "\\item 13\n",
       "\\item 15\n",
       "\\item 17\n",
       "\\end{enumerate*}\n"
      ],
      "text/markdown": [
       "1. 12\n",
       "2. 13\n",
       "3. 15\n",
       "4. 17\n",
       "\n",
       "\n"
      ],
      "text/plain": [
       "[1] 12 13 15 17"
      ]
     },
     "metadata": {},
     "output_type": "display_data"
    }
   ],
   "source": [
    "x <- c(2, 3, 5, 7)\n",
    "x + 10"
   ]
  },
  {
   "cell_type": "code",
   "execution_count": 52,
   "id": "43906151",
   "metadata": {
    "collapsed": false,
    "jupyter": {
     "outputs_hidden": false
    }
   },
   "outputs": [
    {
     "data": {
      "text/html": [
       "<style>\n",
       ".list-inline {list-style: none; margin:0; padding: 0}\n",
       ".list-inline>li {display: inline-block}\n",
       ".list-inline>li:not(:last-child)::after {content: \"\\00b7\"; padding: 0 .5ex}\n",
       "</style>\n",
       "<ol class=list-inline><li>20</li><li>30</li><li>50</li><li>70</li></ol>\n"
      ],
      "text/latex": [
       "\\begin{enumerate*}\n",
       "\\item 20\n",
       "\\item 30\n",
       "\\item 50\n",
       "\\item 70\n",
       "\\end{enumerate*}\n"
      ],
      "text/markdown": [
       "1. 20\n",
       "2. 30\n",
       "3. 50\n",
       "4. 70\n",
       "\n",
       "\n"
      ],
      "text/plain": [
       "[1] 20 30 50 70"
      ]
     },
     "metadata": {},
     "output_type": "display_data"
    }
   ],
   "source": [
    "x * 10"
   ]
  },
  {
   "cell_type": "code",
   "execution_count": 53,
   "id": "4f2e9b47",
   "metadata": {
    "collapsed": false,
    "jupyter": {
     "outputs_hidden": false
    }
   },
   "outputs": [
    {
     "data": {
      "text/html": [
       "<style>\n",
       ".list-inline {list-style: none; margin:0; padding: 0}\n",
       ".list-inline>li {display: inline-block}\n",
       ".list-inline>li:not(:last-child)::after {content: \"\\00b7\"; padding: 0 .5ex}\n",
       "</style>\n",
       "<ol class=list-inline><li>0.909297426825682</li><li>0.141120008059867</li></ol>\n"
      ],
      "text/latex": [
       "\\begin{enumerate*}\n",
       "\\item 0.909297426825682\n",
       "\\item 0.141120008059867\n",
       "\\end{enumerate*}\n"
      ],
      "text/markdown": [
       "1. 0.909297426825682\n",
       "2. 0.141120008059867\n",
       "\n",
       "\n"
      ],
      "text/plain": [
       "[1] 0.9092974 0.1411200"
      ]
     },
     "metadata": {},
     "output_type": "display_data"
    }
   ],
   "source": [
    "x <- c(2, 3)\n",
    "sin(x)"
   ]
  },
  {
   "cell_type": "code",
   "execution_count": 54,
   "id": "93c6f10e",
   "metadata": {
    "collapsed": false,
    "jupyter": {
     "outputs_hidden": false
    }
   },
   "outputs": [
    {
     "data": {
      "text/html": [
       "<style>\n",
       ".list-inline {list-style: none; margin:0; padding: 0}\n",
       ".list-inline>li {display: inline-block}\n",
       ".list-inline>li:not(:last-child)::after {content: \"\\00b7\"; padding: 0 .5ex}\n",
       "</style>\n",
       "<ol class=list-inline><li>3</li><li>13</li><li>105</li><li>1007</li></ol>\n"
      ],
      "text/latex": [
       "\\begin{enumerate*}\n",
       "\\item 3\n",
       "\\item 13\n",
       "\\item 105\n",
       "\\item 1007\n",
       "\\end{enumerate*}\n"
      ],
      "text/markdown": [
       "1. 3\n",
       "2. 13\n",
       "3. 105\n",
       "4. 1007\n",
       "\n",
       "\n"
      ],
      "text/plain": [
       "[1]    3   13  105 1007"
      ]
     },
     "metadata": {},
     "output_type": "display_data"
    }
   ],
   "source": [
    "x <- c(2,  3,   5,    7)\n",
    "y <- c(1, 10, 100, 1000)\n",
    "x + y"
   ]
  },
  {
   "cell_type": "code",
   "execution_count": 55,
   "id": "adca8303",
   "metadata": {
    "collapsed": false,
    "jupyter": {
     "outputs_hidden": false
    }
   },
   "outputs": [
    {
     "data": {
      "text/html": [
       "<style>\n",
       ".list-inline {list-style: none; margin:0; padding: 0}\n",
       ".list-inline>li {display: inline-block}\n",
       ".list-inline>li:not(:last-child)::after {content: \"\\00b7\"; padding: 0 .5ex}\n",
       "</style>\n",
       "<ol class=list-inline><li>2</li><li>30</li><li>500</li><li>7000</li></ol>\n"
      ],
      "text/latex": [
       "\\begin{enumerate*}\n",
       "\\item 2\n",
       "\\item 30\n",
       "\\item 500\n",
       "\\item 7000\n",
       "\\end{enumerate*}\n"
      ],
      "text/markdown": [
       "1. 2\n",
       "2. 30\n",
       "3. 500\n",
       "4. 7000\n",
       "\n",
       "\n"
      ],
      "text/plain": [
       "[1]    2   30  500 7000"
      ]
     },
     "metadata": {},
     "output_type": "display_data"
    }
   ],
   "source": [
    "x * y"
   ]
  },
  {
   "cell_type": "code",
   "execution_count": 56,
   "id": "9adc7ec7",
   "metadata": {
    "collapsed": false,
    "jupyter": {
     "outputs_hidden": false
    }
   },
   "outputs": [
    {
     "data": {
      "text/html": [
       "7532"
      ],
      "text/latex": [
       "7532"
      ],
      "text/markdown": [
       "7532"
      ],
      "text/plain": [
       "[1] 7532"
      ]
     },
     "metadata": {},
     "output_type": "display_data"
    }
   ],
   "source": [
    "sum(x * y)"
   ]
  },
  {
   "cell_type": "code",
   "execution_count": 57,
   "id": "abaa47be",
   "metadata": {
    "collapsed": false,
    "jupyter": {
     "outputs_hidden": false
    }
   },
   "outputs": [
    {
     "data": {
      "text/html": [
       "<style>\n",
       ".list-inline {list-style: none; margin:0; padding: 0}\n",
       ".list-inline>li {display: inline-block}\n",
       ".list-inline>li:not(:last-child)::after {content: \"\\00b7\"; padding: 0 .5ex}\n",
       "</style>\n",
       "<ol class=list-inline><li>TRUE</li><li>FALSE</li></ol>\n"
      ],
      "text/latex": [
       "\\begin{enumerate*}\n",
       "\\item TRUE\n",
       "\\item FALSE\n",
       "\\end{enumerate*}\n"
      ],
      "text/markdown": [
       "1. TRUE\n",
       "2. FALSE\n",
       "\n",
       "\n"
      ],
      "text/plain": [
       "[1]  TRUE FALSE"
      ]
     },
     "metadata": {},
     "output_type": "display_data"
    }
   ],
   "source": [
    "x <- c(TRUE, FALSE)\n",
    "y <- c(TRUE, TRUE)\n",
    "x & y"
   ]
  },
  {
   "cell_type": "code",
   "execution_count": 58,
   "id": "02b5dd92",
   "metadata": {
    "collapsed": false,
    "jupyter": {
     "outputs_hidden": false
    }
   },
   "outputs": [
    {
     "data": {
      "text/html": [
       "TRUE"
      ],
      "text/latex": [
       "TRUE"
      ],
      "text/markdown": [
       "TRUE"
      ],
      "text/plain": [
       "[1] TRUE"
      ]
     },
     "metadata": {},
     "output_type": "display_data"
    }
   ],
   "source": [
    "u <- c(1, 2, 3)\n",
    "v <- c(1, 2, 3)\n",
    "w <- c(1, 2, 4)\n",
    "identical(u, v)"
   ]
  },
  {
   "cell_type": "code",
   "execution_count": 59,
   "id": "dbce7690",
   "metadata": {
    "collapsed": false,
    "jupyter": {
     "outputs_hidden": false
    }
   },
   "outputs": [
    {
     "data": {
      "text/html": [
       "FALSE"
      ],
      "text/latex": [
       "FALSE"
      ],
      "text/markdown": [
       "FALSE"
      ],
      "text/plain": [
       "[1] FALSE"
      ]
     },
     "metadata": {},
     "output_type": "display_data"
    }
   ],
   "source": [
    "identical(u, w)"
   ]
  },
  {
   "cell_type": "code",
   "execution_count": 60,
   "id": "62d3a236",
   "metadata": {
    "collapsed": false,
    "jupyter": {
     "outputs_hidden": false
    }
   },
   "outputs": [
    {
     "data": {
      "text/html": [
       "<style>\n",
       ".list-inline {list-style: none; margin:0; padding: 0}\n",
       ".list-inline>li {display: inline-block}\n",
       ".list-inline>li:not(:last-child)::after {content: \"\\00b7\"; padding: 0 .5ex}\n",
       "</style>\n",
       "<ol class=list-inline><li>TRUE</li><li>TRUE</li><li>TRUE</li></ol>\n"
      ],
      "text/latex": [
       "\\begin{enumerate*}\n",
       "\\item TRUE\n",
       "\\item TRUE\n",
       "\\item TRUE\n",
       "\\end{enumerate*}\n"
      ],
      "text/markdown": [
       "1. TRUE\n",
       "2. TRUE\n",
       "3. TRUE\n",
       "\n",
       "\n"
      ],
      "text/plain": [
       "[1] TRUE TRUE TRUE"
      ]
     },
     "metadata": {},
     "output_type": "display_data"
    }
   ],
   "source": [
    "u == v"
   ]
  },
  {
   "cell_type": "code",
   "execution_count": 61,
   "id": "97f83387",
   "metadata": {
    "collapsed": false,
    "jupyter": {
     "outputs_hidden": false
    }
   },
   "outputs": [
    {
     "data": {
      "text/html": [
       "<style>\n",
       ".list-inline {list-style: none; margin:0; padding: 0}\n",
       ".list-inline>li {display: inline-block}\n",
       ".list-inline>li:not(:last-child)::after {content: \"\\00b7\"; padding: 0 .5ex}\n",
       "</style>\n",
       "<ol class=list-inline><li>TRUE</li><li>TRUE</li><li>FALSE</li></ol>\n"
      ],
      "text/latex": [
       "\\begin{enumerate*}\n",
       "\\item TRUE\n",
       "\\item TRUE\n",
       "\\item FALSE\n",
       "\\end{enumerate*}\n"
      ],
      "text/markdown": [
       "1. TRUE\n",
       "2. TRUE\n",
       "3. FALSE\n",
       "\n",
       "\n"
      ],
      "text/plain": [
       "[1]  TRUE  TRUE FALSE"
      ]
     },
     "metadata": {},
     "output_type": "display_data"
    }
   ],
   "source": [
    "u == w"
   ]
  },
  {
   "cell_type": "code",
   "execution_count": 62,
   "id": "4378453a",
   "metadata": {
    "collapsed": false,
    "jupyter": {
     "outputs_hidden": false
    }
   },
   "outputs": [
    {
     "data": {
      "text/html": [
       "2"
      ],
      "text/latex": [
       "2"
      ],
      "text/markdown": [
       "2"
      ],
      "text/plain": [
       "[1] 2"
      ]
     },
     "metadata": {},
     "output_type": "display_data"
    }
   ],
   "source": [
    "sum(u == w)"
   ]
  },
  {
   "cell_type": "code",
   "execution_count": 63,
   "id": "86e0a24d",
   "metadata": {
    "collapsed": false,
    "jupyter": {
     "outputs_hidden": false
    }
   },
   "outputs": [
    {
     "data": {
      "text/html": [
       "0.666666666666667"
      ],
      "text/latex": [
       "0.666666666666667"
      ],
      "text/markdown": [
       "0.666666666666667"
      ],
      "text/plain": [
       "[1] 0.6666667"
      ]
     },
     "metadata": {},
     "output_type": "display_data"
    }
   ],
   "source": [
    "mean(u == w)"
   ]
  },
  {
   "cell_type": "markdown",
   "id": "7cc419f1",
   "metadata": {},
   "source": [
    "### 3.3.3 複数種類のデータをひとまとめにする"
   ]
  },
  {
   "cell_type": "code",
   "execution_count": 64,
   "id": "01b52cfb",
   "metadata": {
    "collapsed": false,
    "jupyter": {
     "outputs_hidden": false
    }
   },
   "outputs": [],
   "source": [
    "x <- list(1, \"two\")"
   ]
  },
  {
   "cell_type": "code",
   "execution_count": 65,
   "id": "721ce97d",
   "metadata": {
    "collapsed": false,
    "jupyter": {
     "outputs_hidden": false
    }
   },
   "outputs": [
    {
     "data": {
      "text/html": [
       "'two'"
      ],
      "text/latex": [
       "'two'"
      ],
      "text/markdown": [
       "'two'"
      ],
      "text/plain": [
       "[1] \"two\""
      ]
     },
     "metadata": {},
     "output_type": "display_data"
    }
   ],
   "source": [
    "x[[2]]"
   ]
  },
  {
   "cell_type": "markdown",
   "id": "2a1debd7",
   "metadata": {},
   "source": [
    "### 3.3.4 文字列と値のペアのコレクション"
   ]
  },
  {
   "cell_type": "code",
   "execution_count": 66,
   "id": "2d0cc72a",
   "metadata": {
    "collapsed": false,
    "jupyter": {
     "outputs_hidden": false
    }
   },
   "outputs": [],
   "source": [
    "x <- list(\"apple\" = \"りんご\", \"orange\" = \"みかん\")"
   ]
  },
  {
   "cell_type": "code",
   "execution_count": 67,
   "id": "cc7c76c1",
   "metadata": {
    "collapsed": false,
    "jupyter": {
     "outputs_hidden": false
    }
   },
   "outputs": [],
   "source": [
    "x[[\"grape\"]] <- \"ぶどう\""
   ]
  },
  {
   "cell_type": "code",
   "execution_count": 68,
   "id": "ee831adb",
   "metadata": {
    "collapsed": false,
    "jupyter": {
     "outputs_hidden": false
    }
   },
   "outputs": [
    {
     "data": {
      "text/html": [
       "'りんご'"
      ],
      "text/latex": [
       "'りんご'"
      ],
      "text/markdown": [
       "'りんご'"
      ],
      "text/plain": [
       "[1] \"りんご\""
      ]
     },
     "metadata": {},
     "output_type": "display_data"
    },
    {
     "data": {
      "text/html": [
       "'りんご'"
      ],
      "text/latex": [
       "'りんご'"
      ],
      "text/markdown": [
       "'りんご'"
      ],
      "text/plain": [
       "[1] \"りんご\""
      ]
     },
     "metadata": {},
     "output_type": "display_data"
    },
    {
     "data": {
      "text/html": [
       "'りんご'"
      ],
      "text/latex": [
       "'りんご'"
      ],
      "text/markdown": [
       "'りんご'"
      ],
      "text/plain": [
       "[1] \"りんご\""
      ]
     },
     "metadata": {},
     "output_type": "display_data"
    },
    {
     "data": {
      "text/html": [
       "'りんご'"
      ],
      "text/latex": [
       "'りんご'"
      ],
      "text/markdown": [
       "'りんご'"
      ],
      "text/plain": [
       "[1] \"りんご\""
      ]
     },
     "metadata": {},
     "output_type": "display_data"
    }
   ],
   "source": [
    "x$apple\n",
    "x$\"apple\"\n",
    "x[[\"apple\"]]\n",
    "tmp <- \"apple\"\n",
    "x[[tmp]]"
   ]
  },
  {
   "cell_type": "markdown",
   "id": "aa68b9d2",
   "metadata": {},
   "source": [
    "### 3.3.5 補足：コピーと参照"
   ]
  },
  {
   "cell_type": "code",
   "execution_count": 69,
   "id": "490da9b2",
   "metadata": {
    "collapsed": false,
    "jupyter": {
     "outputs_hidden": false
    }
   },
   "outputs": [
    {
     "data": {
      "text/html": [
       "<style>\n",
       ".list-inline {list-style: none; margin:0; padding: 0}\n",
       ".list-inline>li {display: inline-block}\n",
       ".list-inline>li:not(:last-child)::after {content: \"\\00b7\"; padding: 0 .5ex}\n",
       "</style>\n",
       "<ol class=list-inline><li>'foo'</li><li>'BAR'</li><li>'baz'</li></ol>\n"
      ],
      "text/latex": [
       "\\begin{enumerate*}\n",
       "\\item 'foo'\n",
       "\\item 'BAR'\n",
       "\\item 'baz'\n",
       "\\end{enumerate*}\n"
      ],
      "text/markdown": [
       "1. 'foo'\n",
       "2. 'BAR'\n",
       "3. 'baz'\n",
       "\n",
       "\n"
      ],
      "text/plain": [
       "[1] \"foo\" \"BAR\" \"baz\""
      ]
     },
     "metadata": {},
     "output_type": "display_data"
    }
   ],
   "source": [
    "x <- c(\"foo\", \"bar\", \"baz\")\n",
    "y <- x\n",
    "y[2] <- \"BAR\"\n",
    "y"
   ]
  },
  {
   "cell_type": "code",
   "execution_count": 70,
   "id": "9e8bf180",
   "metadata": {
    "collapsed": false,
    "jupyter": {
     "outputs_hidden": false
    }
   },
   "outputs": [
    {
     "data": {
      "text/html": [
       "<style>\n",
       ".list-inline {list-style: none; margin:0; padding: 0}\n",
       ".list-inline>li {display: inline-block}\n",
       ".list-inline>li:not(:last-child)::after {content: \"\\00b7\"; padding: 0 .5ex}\n",
       "</style>\n",
       "<ol class=list-inline><li>'foo'</li><li>'bar'</li><li>'baz'</li></ol>\n"
      ],
      "text/latex": [
       "\\begin{enumerate*}\n",
       "\\item 'foo'\n",
       "\\item 'bar'\n",
       "\\item 'baz'\n",
       "\\end{enumerate*}\n"
      ],
      "text/markdown": [
       "1. 'foo'\n",
       "2. 'bar'\n",
       "3. 'baz'\n",
       "\n",
       "\n"
      ],
      "text/plain": [
       "[1] \"foo\" \"bar\" \"baz\""
      ]
     },
     "metadata": {},
     "output_type": "display_data"
    }
   ],
   "source": [
    "x"
   ]
  },
  {
   "cell_type": "markdown",
   "id": "e46c1b89",
   "metadata": {},
   "source": [
    "## 3.4 データフレーム"
   ]
  },
  {
   "cell_type": "markdown",
   "id": "38e2c920",
   "metadata": {},
   "source": [
    "### 3.4.1 データフレームの作成"
   ]
  },
  {
   "cell_type": "code",
   "execution_count": 71,
   "id": "66410bef",
   "metadata": {
    "collapsed": false,
    "jupyter": {
     "outputs_hidden": false
    }
   },
   "outputs": [],
   "source": [
    "library(tidyverse)"
   ]
  },
  {
   "cell_type": "markdown",
   "id": "472e8723",
   "metadata": {},
   "source": [
    "#### 3.4.1.1 データを列ごとに記述する方法"
   ]
  },
  {
   "cell_type": "code",
   "execution_count": 72,
   "id": "25d31a75",
   "metadata": {
    "collapsed": false,
    "jupyter": {
     "outputs_hidden": false
    }
   },
   "outputs": [
    {
     "data": {
      "text/html": [
       "<table class=\"dataframe\">\n",
       "<caption>A data.frame: 4 × 4</caption>\n",
       "<thead>\n",
       "\t<tr><th scope=col>name</th><th scope=col>english</th><th scope=col>math</th><th scope=col>gender</th></tr>\n",
       "\t<tr><th scope=col>&lt;chr&gt;</th><th scope=col>&lt;dbl&gt;</th><th scope=col>&lt;dbl&gt;</th><th scope=col>&lt;chr&gt;</th></tr>\n",
       "</thead>\n",
       "<tbody>\n",
       "\t<tr><td>A</td><td>60</td><td> 70</td><td>f</td></tr>\n",
       "\t<tr><td>B</td><td>90</td><td> 80</td><td>m</td></tr>\n",
       "\t<tr><td>C</td><td>70</td><td> 90</td><td>m</td></tr>\n",
       "\t<tr><td>D</td><td>90</td><td>100</td><td>f</td></tr>\n",
       "</tbody>\n",
       "</table>\n"
      ],
      "text/latex": [
       "A data.frame: 4 × 4\n",
       "\\begin{tabular}{llll}\n",
       " name & english & math & gender\\\\\n",
       " <chr> & <dbl> & <dbl> & <chr>\\\\\n",
       "\\hline\n",
       "\t A & 60 &  70 & f\\\\\n",
       "\t B & 90 &  80 & m\\\\\n",
       "\t C & 70 &  90 & m\\\\\n",
       "\t D & 90 & 100 & f\\\\\n",
       "\\end{tabular}\n"
      ],
      "text/markdown": [
       "\n",
       "A data.frame: 4 × 4\n",
       "\n",
       "| name &lt;chr&gt; | english &lt;dbl&gt; | math &lt;dbl&gt; | gender &lt;chr&gt; |\n",
       "|---|---|---|---|\n",
       "| A | 60 |  70 | f |\n",
       "| B | 90 |  80 | m |\n",
       "| C | 70 |  90 | m |\n",
       "| D | 90 | 100 | f |\n",
       "\n"
      ],
      "text/plain": [
       "  name english math gender\n",
       "1 A    60       70  f     \n",
       "2 B    90       80  m     \n",
       "3 C    70       90  m     \n",
       "4 D    90      100  f     "
      ]
     },
     "metadata": {},
     "output_type": "display_data"
    }
   ],
   "source": [
    "my_df <- data.frame(\n",
    "  name =    c(\"A\", \"B\", \"C\", \"D\"),\n",
    "  english = c( 60,  90,  70,  90),\n",
    "  math =    c( 70,  80,  90, 100),\n",
    "  gender =  c(\"f\", \"m\", \"m\", \"f\")\n",
    ")\n",
    "my_df"
   ]
  },
  {
   "cell_type": "markdown",
   "id": "861f737d",
   "metadata": {},
   "source": [
    "#### 3.4.1.2 データを見た目のとおりに記述する方法"
   ]
  },
  {
   "cell_type": "code",
   "execution_count": 73,
   "id": "a981e5a8",
   "metadata": {
    "collapsed": false,
    "jupyter": {
     "outputs_hidden": false
    }
   },
   "outputs": [
    {
     "data": {
      "text/html": [
       "<table class=\"dataframe\">\n",
       "<caption>A tibble: 4 × 4</caption>\n",
       "<thead>\n",
       "\t<tr><th scope=col>name</th><th scope=col>english</th><th scope=col>math</th><th scope=col>gender</th></tr>\n",
       "\t<tr><th scope=col>&lt;chr&gt;</th><th scope=col>&lt;dbl&gt;</th><th scope=col>&lt;dbl&gt;</th><th scope=col>&lt;chr&gt;</th></tr>\n",
       "</thead>\n",
       "<tbody>\n",
       "\t<tr><td>A</td><td>60</td><td> 70</td><td>f</td></tr>\n",
       "\t<tr><td>B</td><td>90</td><td> 80</td><td>m</td></tr>\n",
       "\t<tr><td>C</td><td>70</td><td> 90</td><td>m</td></tr>\n",
       "\t<tr><td>D</td><td>90</td><td>100</td><td>f</td></tr>\n",
       "</tbody>\n",
       "</table>\n"
      ],
      "text/latex": [
       "A tibble: 4 × 4\n",
       "\\begin{tabular}{llll}\n",
       " name & english & math & gender\\\\\n",
       " <chr> & <dbl> & <dbl> & <chr>\\\\\n",
       "\\hline\n",
       "\t A & 60 &  70 & f\\\\\n",
       "\t B & 90 &  80 & m\\\\\n",
       "\t C & 70 &  90 & m\\\\\n",
       "\t D & 90 & 100 & f\\\\\n",
       "\\end{tabular}\n"
      ],
      "text/markdown": [
       "\n",
       "A tibble: 4 × 4\n",
       "\n",
       "| name &lt;chr&gt; | english &lt;dbl&gt; | math &lt;dbl&gt; | gender &lt;chr&gt; |\n",
       "|---|---|---|---|\n",
       "| A | 60 |  70 | f |\n",
       "| B | 90 |  80 | m |\n",
       "| C | 70 |  90 | m |\n",
       "| D | 90 | 100 | f |\n",
       "\n"
      ],
      "text/plain": [
       "  name english math gender\n",
       "1 A    60       70  f     \n",
       "2 B    90       80  m     \n",
       "3 C    70       90  m     \n",
       "4 D    90      100  f     "
      ]
     },
     "metadata": {},
     "output_type": "display_data"
    }
   ],
   "source": [
    "my_df <- tribble(\n",
    "  ~name, ~english, ~math, ~gender,\n",
    "    \"A\",       60,    70,     \"f\",\n",
    "    \"B\",       90,    80,     \"m\",\n",
    "    \"C\",       70,    90,     \"m\",\n",
    "    \"D\",       90,   100,     \"f\"\n",
    ")\n",
    "my_df"
   ]
  },
  {
   "cell_type": "code",
   "execution_count": 74,
   "id": "02359888",
   "metadata": {
    "collapsed": false,
    "jupyter": {
     "outputs_hidden": false
    }
   },
   "outputs": [
    {
     "data": {
      "text/html": [
       "<table class=\"dataframe\">\n",
       "<caption>A tibble: 4 × 4</caption>\n",
       "<thead>\n",
       "\t<tr><th scope=col>name</th><th scope=col>english</th><th scope=col>math</th><th scope=col>gender</th></tr>\n",
       "\t<tr><th scope=col>&lt;chr&gt;</th><th scope=col>&lt;dbl&gt;</th><th scope=col>&lt;dbl&gt;</th><th scope=col>&lt;chr&gt;</th></tr>\n",
       "</thead>\n",
       "<tbody>\n",
       "\t<tr><td>A</td><td>60</td><td> 70</td><td>f</td></tr>\n",
       "\t<tr><td>B</td><td>90</td><td> 80</td><td>m</td></tr>\n",
       "\t<tr><td>C</td><td>70</td><td> 90</td><td>m</td></tr>\n",
       "\t<tr><td>D</td><td>90</td><td>100</td><td>f</td></tr>\n",
       "</tbody>\n",
       "</table>\n"
      ],
      "text/latex": [
       "A tibble: 4 × 4\n",
       "\\begin{tabular}{llll}\n",
       " name & english & math & gender\\\\\n",
       " <chr> & <dbl> & <dbl> & <chr>\\\\\n",
       "\\hline\n",
       "\t A & 60 &  70 & f\\\\\n",
       "\t B & 90 &  80 & m\\\\\n",
       "\t C & 70 &  90 & m\\\\\n",
       "\t D & 90 & 100 & f\\\\\n",
       "\\end{tabular}\n"
      ],
      "text/markdown": [
       "\n",
       "A tibble: 4 × 4\n",
       "\n",
       "| name &lt;chr&gt; | english &lt;dbl&gt; | math &lt;dbl&gt; | gender &lt;chr&gt; |\n",
       "|---|---|---|---|\n",
       "| A | 60 |  70 | f |\n",
       "| B | 90 |  80 | m |\n",
       "| C | 70 |  90 | m |\n",
       "| D | 90 | 100 | f |\n",
       "\n"
      ],
      "text/plain": [
       "  name english math gender\n",
       "1 A    60       70  f     \n",
       "2 B    90       80  m     \n",
       "3 C    70       90  m     \n",
       "4 D    90      100  f     "
      ]
     },
     "metadata": {},
     "output_type": "display_data"
    }
   ],
   "source": [
    "head(my_df)"
   ]
  },
  {
   "cell_type": "markdown",
   "id": "389ad81a",
   "metadata": {},
   "source": [
    "#### 3.4.1.3 データフレームのサイズ"
   ]
  },
  {
   "cell_type": "code",
   "execution_count": 75,
   "id": "2cd5fb37",
   "metadata": {
    "collapsed": false,
    "jupyter": {
     "outputs_hidden": false
    }
   },
   "outputs": [
    {
     "data": {
      "text/html": [
       "<style>\n",
       ".list-inline {list-style: none; margin:0; padding: 0}\n",
       ".list-inline>li {display: inline-block}\n",
       ".list-inline>li:not(:last-child)::after {content: \"\\00b7\"; padding: 0 .5ex}\n",
       "</style>\n",
       "<ol class=list-inline><li>4</li><li>4</li></ol>\n"
      ],
      "text/latex": [
       "\\begin{enumerate*}\n",
       "\\item 4\n",
       "\\item 4\n",
       "\\end{enumerate*}\n"
      ],
      "text/markdown": [
       "1. 4\n",
       "2. 4\n",
       "\n",
       "\n"
      ],
      "text/plain": [
       "[1] 4 4"
      ]
     },
     "metadata": {},
     "output_type": "display_data"
    }
   ],
   "source": [
    "dim(my_df)"
   ]
  },
  {
   "cell_type": "code",
   "execution_count": 76,
   "id": "144710e8",
   "metadata": {
    "collapsed": false,
    "jupyter": {
     "outputs_hidden": false
    }
   },
   "outputs": [
    {
     "data": {
      "text/html": [
       "4"
      ],
      "text/latex": [
       "4"
      ],
      "text/markdown": [
       "4"
      ],
      "text/plain": [
       "[1] 4"
      ]
     },
     "metadata": {},
     "output_type": "display_data"
    }
   ],
   "source": [
    "nrow(my_df)"
   ]
  },
  {
   "cell_type": "code",
   "execution_count": 77,
   "id": "e769af82",
   "metadata": {
    "collapsed": false,
    "jupyter": {
     "outputs_hidden": false
    }
   },
   "outputs": [
    {
     "data": {
      "text/html": [
       "4"
      ],
      "text/latex": [
       "4"
      ],
      "text/markdown": [
       "4"
      ],
      "text/plain": [
       "[1] 4"
      ]
     },
     "metadata": {},
     "output_type": "display_data"
    }
   ],
   "source": [
    "ncol(my_df)"
   ]
  },
  {
   "cell_type": "markdown",
   "id": "0ccdde8a",
   "metadata": {},
   "source": [
    "#### 3.4.1.4 組合せ"
   ]
  },
  {
   "cell_type": "code",
   "execution_count": 78,
   "id": "48d99ea6",
   "metadata": {
    "collapsed": false,
    "jupyter": {
     "outputs_hidden": false
    }
   },
   "outputs": [
    {
     "data": {
      "text/html": [
       "<table class=\"dataframe\">\n",
       "<caption>A data.frame: 6 × 2</caption>\n",
       "<thead>\n",
       "\t<tr><th scope=col>X</th><th scope=col>Y</th></tr>\n",
       "\t<tr><th scope=col>&lt;dbl&gt;</th><th scope=col>&lt;dbl&gt;</th></tr>\n",
       "</thead>\n",
       "<tbody>\n",
       "\t<tr><td>1</td><td> 10</td></tr>\n",
       "\t<tr><td>2</td><td> 10</td></tr>\n",
       "\t<tr><td>3</td><td> 10</td></tr>\n",
       "\t<tr><td>1</td><td>100</td></tr>\n",
       "\t<tr><td>2</td><td>100</td></tr>\n",
       "\t<tr><td>3</td><td>100</td></tr>\n",
       "</tbody>\n",
       "</table>\n"
      ],
      "text/latex": [
       "A data.frame: 6 × 2\n",
       "\\begin{tabular}{ll}\n",
       " X & Y\\\\\n",
       " <dbl> & <dbl>\\\\\n",
       "\\hline\n",
       "\t 1 &  10\\\\\n",
       "\t 2 &  10\\\\\n",
       "\t 3 &  10\\\\\n",
       "\t 1 & 100\\\\\n",
       "\t 2 & 100\\\\\n",
       "\t 3 & 100\\\\\n",
       "\\end{tabular}\n"
      ],
      "text/markdown": [
       "\n",
       "A data.frame: 6 × 2\n",
       "\n",
       "| X &lt;dbl&gt; | Y &lt;dbl&gt; |\n",
       "|---|---|\n",
       "| 1 |  10 |\n",
       "| 2 |  10 |\n",
       "| 3 |  10 |\n",
       "| 1 | 100 |\n",
       "| 2 | 100 |\n",
       "| 3 | 100 |\n",
       "\n"
      ],
      "text/plain": [
       "  X Y  \n",
       "1 1  10\n",
       "2 2  10\n",
       "3 3  10\n",
       "4 1 100\n",
       "5 2 100\n",
       "6 3 100"
      ]
     },
     "metadata": {},
     "output_type": "display_data"
    }
   ],
   "source": [
    "my_df2 <- expand.grid(X = c(1, 2, 3), Y = c(10, 100))\n",
    "my_df2"
   ]
  },
  {
   "cell_type": "markdown",
   "id": "5069a784",
   "metadata": {},
   "source": [
    "#### 3.4.1.5 列と行の名前"
   ]
  },
  {
   "cell_type": "code",
   "execution_count": 79,
   "id": "d0802991",
   "metadata": {
    "collapsed": false,
    "jupyter": {
     "outputs_hidden": false
    }
   },
   "outputs": [
    {
     "data": {
      "text/html": [
       "<style>\n",
       ".list-inline {list-style: none; margin:0; padding: 0}\n",
       ".list-inline>li {display: inline-block}\n",
       ".list-inline>li:not(:last-child)::after {content: \"\\00b7\"; padding: 0 .5ex}\n",
       "</style>\n",
       "<ol class=list-inline><li>'X'</li><li>'Y'</li></ol>\n"
      ],
      "text/latex": [
       "\\begin{enumerate*}\n",
       "\\item 'X'\n",
       "\\item 'Y'\n",
       "\\end{enumerate*}\n"
      ],
      "text/markdown": [
       "1. 'X'\n",
       "2. 'Y'\n",
       "\n",
       "\n"
      ],
      "text/plain": [
       "[1] \"X\" \"Y\""
      ]
     },
     "metadata": {},
     "output_type": "display_data"
    }
   ],
   "source": [
    "colnames(my_df2)"
   ]
  },
  {
   "cell_type": "code",
   "execution_count": 80,
   "id": "0c18cf2f",
   "metadata": {
    "collapsed": false,
    "jupyter": {
     "outputs_hidden": false
    }
   },
   "outputs": [
    {
     "data": {
      "text/html": [
       "<table class=\"dataframe\">\n",
       "<caption>A data.frame: 6 × 2</caption>\n",
       "<thead>\n",
       "\t<tr><th scope=col>P</th><th scope=col>Q</th></tr>\n",
       "\t<tr><th scope=col>&lt;dbl&gt;</th><th scope=col>&lt;dbl&gt;</th></tr>\n",
       "</thead>\n",
       "<tbody>\n",
       "\t<tr><td>1</td><td> 10</td></tr>\n",
       "\t<tr><td>2</td><td> 10</td></tr>\n",
       "\t<tr><td>3</td><td> 10</td></tr>\n",
       "\t<tr><td>1</td><td>100</td></tr>\n",
       "\t<tr><td>2</td><td>100</td></tr>\n",
       "\t<tr><td>3</td><td>100</td></tr>\n",
       "</tbody>\n",
       "</table>\n"
      ],
      "text/latex": [
       "A data.frame: 6 × 2\n",
       "\\begin{tabular}{ll}\n",
       " P & Q\\\\\n",
       " <dbl> & <dbl>\\\\\n",
       "\\hline\n",
       "\t 1 &  10\\\\\n",
       "\t 2 &  10\\\\\n",
       "\t 3 &  10\\\\\n",
       "\t 1 & 100\\\\\n",
       "\t 2 & 100\\\\\n",
       "\t 3 & 100\\\\\n",
       "\\end{tabular}\n"
      ],
      "text/markdown": [
       "\n",
       "A data.frame: 6 × 2\n",
       "\n",
       "| P &lt;dbl&gt; | Q &lt;dbl&gt; |\n",
       "|---|---|\n",
       "| 1 |  10 |\n",
       "| 2 |  10 |\n",
       "| 3 |  10 |\n",
       "| 1 | 100 |\n",
       "| 2 | 100 |\n",
       "| 3 | 100 |\n",
       "\n"
      ],
      "text/plain": [
       "  P Q  \n",
       "1 1  10\n",
       "2 2  10\n",
       "3 3  10\n",
       "4 1 100\n",
       "5 2 100\n",
       "6 3 100"
      ]
     },
     "metadata": {},
     "output_type": "display_data"
    }
   ],
   "source": [
    "colnames(my_df2) <- c(\"P\", \"Q\")\n",
    "my_df2"
   ]
  },
  {
   "cell_type": "code",
   "execution_count": 81,
   "id": "30698d22",
   "metadata": {
    "collapsed": false,
    "jupyter": {
     "outputs_hidden": false
    }
   },
   "outputs": [
    {
     "data": {
      "text/html": [
       "<style>\n",
       ".list-inline {list-style: none; margin:0; padding: 0}\n",
       ".list-inline>li {display: inline-block}\n",
       ".list-inline>li:not(:last-child)::after {content: \"\\00b7\"; padding: 0 .5ex}\n",
       "</style>\n",
       "<ol class=list-inline><li>'1'</li><li>'2'</li><li>'3'</li><li>'4'</li><li>'5'</li><li>'6'</li></ol>\n"
      ],
      "text/latex": [
       "\\begin{enumerate*}\n",
       "\\item '1'\n",
       "\\item '2'\n",
       "\\item '3'\n",
       "\\item '4'\n",
       "\\item '5'\n",
       "\\item '6'\n",
       "\\end{enumerate*}\n"
      ],
      "text/markdown": [
       "1. '1'\n",
       "2. '2'\n",
       "3. '3'\n",
       "4. '4'\n",
       "5. '5'\n",
       "6. '6'\n",
       "\n",
       "\n"
      ],
      "text/plain": [
       "[1] \"1\" \"2\" \"3\" \"4\" \"5\" \"6\""
      ]
     },
     "metadata": {},
     "output_type": "display_data"
    }
   ],
   "source": [
    "row.names(my_df2)"
   ]
  },
  {
   "cell_type": "code",
   "execution_count": 82,
   "id": "8629dbd9",
   "metadata": {
    "collapsed": false,
    "jupyter": {
     "outputs_hidden": false
    }
   },
   "outputs": [
    {
     "data": {
      "text/html": [
       "<table class=\"dataframe\">\n",
       "<caption>A data.frame: 6 × 2</caption>\n",
       "<thead>\n",
       "\t<tr><th></th><th scope=col>P</th><th scope=col>Q</th></tr>\n",
       "\t<tr><th></th><th scope=col>&lt;dbl&gt;</th><th scope=col>&lt;dbl&gt;</th></tr>\n",
       "</thead>\n",
       "<tbody>\n",
       "\t<tr><th scope=row>a</th><td>1</td><td> 10</td></tr>\n",
       "\t<tr><th scope=row>b</th><td>2</td><td> 10</td></tr>\n",
       "\t<tr><th scope=row>c</th><td>3</td><td> 10</td></tr>\n",
       "\t<tr><th scope=row>d</th><td>1</td><td>100</td></tr>\n",
       "\t<tr><th scope=row>e</th><td>2</td><td>100</td></tr>\n",
       "\t<tr><th scope=row>f</th><td>3</td><td>100</td></tr>\n",
       "</tbody>\n",
       "</table>\n"
      ],
      "text/latex": [
       "A data.frame: 6 × 2\n",
       "\\begin{tabular}{r|ll}\n",
       "  & P & Q\\\\\n",
       "  & <dbl> & <dbl>\\\\\n",
       "\\hline\n",
       "\ta & 1 &  10\\\\\n",
       "\tb & 2 &  10\\\\\n",
       "\tc & 3 &  10\\\\\n",
       "\td & 1 & 100\\\\\n",
       "\te & 2 & 100\\\\\n",
       "\tf & 3 & 100\\\\\n",
       "\\end{tabular}\n"
      ],
      "text/markdown": [
       "\n",
       "A data.frame: 6 × 2\n",
       "\n",
       "| <!--/--> | P &lt;dbl&gt; | Q &lt;dbl&gt; |\n",
       "|---|---|---|\n",
       "| a | 1 |  10 |\n",
       "| b | 2 |  10 |\n",
       "| c | 3 |  10 |\n",
       "| d | 1 | 100 |\n",
       "| e | 2 | 100 |\n",
       "| f | 3 | 100 |\n",
       "\n"
      ],
      "text/plain": [
       "  P Q  \n",
       "a 1  10\n",
       "b 2  10\n",
       "c 3  10\n",
       "d 1 100\n",
       "e 2 100\n",
       "f 3 100"
      ]
     },
     "metadata": {},
     "output_type": "display_data"
    }
   ],
   "source": [
    "row.names(my_df2) <- c(\"a\", \"b\", \"c\", \"d\", \"e\", \"f\")\n",
    "my_df2"
   ]
  },
  {
   "cell_type": "code",
   "execution_count": 83,
   "id": "a178d71e",
   "metadata": {
    "collapsed": false,
    "jupyter": {
     "outputs_hidden": false
    }
   },
   "outputs": [
    {
     "data": {
      "text/html": [
       "<table class=\"dataframe\">\n",
       "<caption>A data.frame: 4 × 3</caption>\n",
       "<thead>\n",
       "\t<tr><th></th><th scope=col>english</th><th scope=col>math</th><th scope=col>gender</th></tr>\n",
       "\t<tr><th></th><th scope=col>&lt;dbl&gt;</th><th scope=col>&lt;dbl&gt;</th><th scope=col>&lt;chr&gt;</th></tr>\n",
       "</thead>\n",
       "<tbody>\n",
       "\t<tr><th scope=row>A</th><td>60</td><td> 70</td><td>f</td></tr>\n",
       "\t<tr><th scope=row>B</th><td>90</td><td> 80</td><td>m</td></tr>\n",
       "\t<tr><th scope=row>C</th><td>70</td><td> 90</td><td>m</td></tr>\n",
       "\t<tr><th scope=row>D</th><td>90</td><td>100</td><td>f</td></tr>\n",
       "</tbody>\n",
       "</table>\n"
      ],
      "text/latex": [
       "A data.frame: 4 × 3\n",
       "\\begin{tabular}{r|lll}\n",
       "  & english & math & gender\\\\\n",
       "  & <dbl> & <dbl> & <chr>\\\\\n",
       "\\hline\n",
       "\tA & 60 &  70 & f\\\\\n",
       "\tB & 90 &  80 & m\\\\\n",
       "\tC & 70 &  90 & m\\\\\n",
       "\tD & 90 & 100 & f\\\\\n",
       "\\end{tabular}\n"
      ],
      "text/markdown": [
       "\n",
       "A data.frame: 4 × 3\n",
       "\n",
       "| <!--/--> | english &lt;dbl&gt; | math &lt;dbl&gt; | gender &lt;chr&gt; |\n",
       "|---|---|---|---|\n",
       "| A | 60 |  70 | f |\n",
       "| B | 90 |  80 | m |\n",
       "| C | 70 |  90 | m |\n",
       "| D | 90 | 100 | f |\n",
       "\n"
      ],
      "text/plain": [
       "  english math gender\n",
       "A 60       70  f     \n",
       "B 90       80  m     \n",
       "C 70       90  m     \n",
       "D 90      100  f     "
      ]
     },
     "metadata": {},
     "output_type": "display_data"
    }
   ],
   "source": [
    "my_df3 <- data.frame(\n",
    "  english   = c( 60,  90,  70,  90),\n",
    "  math      = c( 70,  80,  90, 100),\n",
    "  gender    = c(\"f\", \"m\", \"m\", \"f\"),\n",
    "  row.names = c(\"A\", \"B\", \"C\", \"D\")\n",
    ")\n",
    "my_df3"
   ]
  },
  {
   "cell_type": "markdown",
   "id": "eb5a5e20",
   "metadata": {},
   "source": [
    "### 3.4.2 データの追加"
   ]
  },
  {
   "cell_type": "markdown",
   "id": "2923eb54",
   "metadata": {},
   "source": [
    "#### 3.4.2.1 行の追加（データフレームの結合）"
   ]
  },
  {
   "cell_type": "code",
   "execution_count": 84,
   "id": "73e4fd96",
   "metadata": {
    "collapsed": false,
    "jupyter": {
     "outputs_hidden": false
    }
   },
   "outputs": [
    {
     "data": {
      "text/html": [
       "<table class=\"dataframe\">\n",
       "<caption>A tibble: 5 × 4</caption>\n",
       "<thead>\n",
       "\t<tr><th scope=col>name</th><th scope=col>english</th><th scope=col>math</th><th scope=col>gender</th></tr>\n",
       "\t<tr><th scope=col>&lt;chr&gt;</th><th scope=col>&lt;dbl&gt;</th><th scope=col>&lt;dbl&gt;</th><th scope=col>&lt;chr&gt;</th></tr>\n",
       "</thead>\n",
       "<tbody>\n",
       "\t<tr><td>A</td><td>60</td><td> 70</td><td>f</td></tr>\n",
       "\t<tr><td>B</td><td>90</td><td> 80</td><td>m</td></tr>\n",
       "\t<tr><td>C</td><td>70</td><td> 90</td><td>m</td></tr>\n",
       "\t<tr><td>D</td><td>90</td><td>100</td><td>f</td></tr>\n",
       "\t<tr><td>E</td><td>80</td><td> 80</td><td>m</td></tr>\n",
       "</tbody>\n",
       "</table>\n"
      ],
      "text/latex": [
       "A tibble: 5 × 4\n",
       "\\begin{tabular}{llll}\n",
       " name & english & math & gender\\\\\n",
       " <chr> & <dbl> & <dbl> & <chr>\\\\\n",
       "\\hline\n",
       "\t A & 60 &  70 & f\\\\\n",
       "\t B & 90 &  80 & m\\\\\n",
       "\t C & 70 &  90 & m\\\\\n",
       "\t D & 90 & 100 & f\\\\\n",
       "\t E & 80 &  80 & m\\\\\n",
       "\\end{tabular}\n"
      ],
      "text/markdown": [
       "\n",
       "A tibble: 5 × 4\n",
       "\n",
       "| name &lt;chr&gt; | english &lt;dbl&gt; | math &lt;dbl&gt; | gender &lt;chr&gt; |\n",
       "|---|---|---|---|\n",
       "| A | 60 |  70 | f |\n",
       "| B | 90 |  80 | m |\n",
       "| C | 70 |  90 | m |\n",
       "| D | 90 | 100 | f |\n",
       "| E | 80 |  80 | m |\n",
       "\n"
      ],
      "text/plain": [
       "  name english math gender\n",
       "1 A    60       70  f     \n",
       "2 B    90       80  m     \n",
       "3 C    70       90  m     \n",
       "4 D    90      100  f     \n",
       "5 E    80       80  m     "
      ]
     },
     "metadata": {},
     "output_type": "display_data"
    }
   ],
   "source": [
    "tmp <- data.frame(\n",
    "  name    = \"E\",\n",
    "  english =  80,\n",
    "  math    =  80,\n",
    "  gender  = \"m\"\n",
    ")\n",
    "my_df2 <- rbind(my_df, tmp)\n",
    "my_df2"
   ]
  },
  {
   "cell_type": "markdown",
   "id": "4cdc6dc9",
   "metadata": {},
   "source": [
    "#### 3.4.2.2 列の追加"
   ]
  },
  {
   "cell_type": "code",
   "execution_count": 85,
   "id": "a985325b",
   "metadata": {
    "collapsed": false,
    "jupyter": {
     "outputs_hidden": false
    }
   },
   "outputs": [
    {
     "data": {
      "text/html": [
       "<table class=\"dataframe\">\n",
       "<caption>A tibble: 4 × 5</caption>\n",
       "<thead>\n",
       "\t<tr><th scope=col>name</th><th scope=col>english</th><th scope=col>math</th><th scope=col>gender</th><th scope=col>id</th></tr>\n",
       "\t<tr><th scope=col>&lt;chr&gt;</th><th scope=col>&lt;dbl&gt;</th><th scope=col>&lt;dbl&gt;</th><th scope=col>&lt;chr&gt;</th><th scope=col>&lt;dbl&gt;</th></tr>\n",
       "</thead>\n",
       "<tbody>\n",
       "\t<tr><td>A</td><td>60</td><td> 70</td><td>f</td><td>1</td></tr>\n",
       "\t<tr><td>B</td><td>90</td><td> 80</td><td>m</td><td>2</td></tr>\n",
       "\t<tr><td>C</td><td>70</td><td> 90</td><td>m</td><td>3</td></tr>\n",
       "\t<tr><td>D</td><td>90</td><td>100</td><td>f</td><td>4</td></tr>\n",
       "</tbody>\n",
       "</table>\n"
      ],
      "text/latex": [
       "A tibble: 4 × 5\n",
       "\\begin{tabular}{lllll}\n",
       " name & english & math & gender & id\\\\\n",
       " <chr> & <dbl> & <dbl> & <chr> & <dbl>\\\\\n",
       "\\hline\n",
       "\t A & 60 &  70 & f & 1\\\\\n",
       "\t B & 90 &  80 & m & 2\\\\\n",
       "\t C & 70 &  90 & m & 3\\\\\n",
       "\t D & 90 & 100 & f & 4\\\\\n",
       "\\end{tabular}\n"
      ],
      "text/markdown": [
       "\n",
       "A tibble: 4 × 5\n",
       "\n",
       "| name &lt;chr&gt; | english &lt;dbl&gt; | math &lt;dbl&gt; | gender &lt;chr&gt; | id &lt;dbl&gt; |\n",
       "|---|---|---|---|---|\n",
       "| A | 60 |  70 | f | 1 |\n",
       "| B | 90 |  80 | m | 2 |\n",
       "| C | 70 |  90 | m | 3 |\n",
       "| D | 90 | 100 | f | 4 |\n",
       "\n"
      ],
      "text/plain": [
       "  name english math gender id\n",
       "1 A    60       70  f      1 \n",
       "2 B    90       80  m      2 \n",
       "3 C    70       90  m      3 \n",
       "4 D    90      100  f      4 "
      ]
     },
     "metadata": {},
     "output_type": "display_data"
    }
   ],
   "source": [
    "my_df2 <- my_df %>% mutate(id = c(1, 2, 3, 4))\n",
    "my_df2"
   ]
  },
  {
   "cell_type": "code",
   "execution_count": 86,
   "id": "ad9cb3bf",
   "metadata": {
    "collapsed": false,
    "jupyter": {
     "outputs_hidden": false
    }
   },
   "outputs": [
    {
     "data": {
      "text/html": [
       "<table class=\"dataframe\">\n",
       "<caption>A tibble: 4 × 5</caption>\n",
       "<thead>\n",
       "\t<tr><th scope=col>name</th><th scope=col>english</th><th scope=col>math</th><th scope=col>gender</th><th scope=col>id</th></tr>\n",
       "\t<tr><th scope=col>&lt;chr&gt;</th><th scope=col>&lt;dbl&gt;</th><th scope=col>&lt;dbl&gt;</th><th scope=col>&lt;chr&gt;</th><th scope=col>&lt;dbl&gt;</th></tr>\n",
       "</thead>\n",
       "<tbody>\n",
       "\t<tr><td>A</td><td>60</td><td> 70</td><td>f</td><td>1</td></tr>\n",
       "\t<tr><td>B</td><td>90</td><td> 80</td><td>m</td><td>2</td></tr>\n",
       "\t<tr><td>C</td><td>70</td><td> 90</td><td>m</td><td>3</td></tr>\n",
       "\t<tr><td>D</td><td>90</td><td>100</td><td>f</td><td>4</td></tr>\n",
       "</tbody>\n",
       "</table>\n"
      ],
      "text/latex": [
       "A tibble: 4 × 5\n",
       "\\begin{tabular}{lllll}\n",
       " name & english & math & gender & id\\\\\n",
       " <chr> & <dbl> & <dbl> & <chr> & <dbl>\\\\\n",
       "\\hline\n",
       "\t A & 60 &  70 & f & 1\\\\\n",
       "\t B & 90 &  80 & m & 2\\\\\n",
       "\t C & 70 &  90 & m & 3\\\\\n",
       "\t D & 90 & 100 & f & 4\\\\\n",
       "\\end{tabular}\n"
      ],
      "text/markdown": [
       "\n",
       "A tibble: 4 × 5\n",
       "\n",
       "| name &lt;chr&gt; | english &lt;dbl&gt; | math &lt;dbl&gt; | gender &lt;chr&gt; | id &lt;dbl&gt; |\n",
       "|---|---|---|---|---|\n",
       "| A | 60 |  70 | f | 1 |\n",
       "| B | 90 |  80 | m | 2 |\n",
       "| C | 70 |  90 | m | 3 |\n",
       "| D | 90 | 100 | f | 4 |\n",
       "\n"
      ],
      "text/plain": [
       "  name english math gender id\n",
       "1 A    60       70  f      1 \n",
       "2 B    90       80  m      2 \n",
       "3 C    70       90  m      3 \n",
       "4 D    90      100  f      4 "
      ]
     },
     "metadata": {},
     "output_type": "display_data"
    }
   ],
   "source": [
    "my_df3 <- my_df\n",
    "my_df3[\"id\"] <- c(1, 2, 3, 4)\n",
    "my_df3"
   ]
  },
  {
   "cell_type": "markdown",
   "id": "28065f34",
   "metadata": {},
   "source": [
    "### 3.4.3 データの取り出し"
   ]
  },
  {
   "cell_type": "markdown",
   "id": "be18d1da",
   "metadata": {},
   "source": [
    "#### 3.4.3.1 観測値の取り出し"
   ]
  },
  {
   "cell_type": "code",
   "execution_count": 87,
   "id": "f4cb4b29",
   "metadata": {
    "collapsed": false,
    "jupyter": {
     "outputs_hidden": false
    }
   },
   "outputs": [
    {
     "data": {
      "text/html": [
       "<table class=\"dataframe\">\n",
       "<caption>A tibble: 1 × 1</caption>\n",
       "<thead>\n",
       "\t<tr><th scope=col>english</th></tr>\n",
       "\t<tr><th scope=col>&lt;dbl&gt;</th></tr>\n",
       "</thead>\n",
       "<tbody>\n",
       "\t<tr><td>60</td></tr>\n",
       "</tbody>\n",
       "</table>\n"
      ],
      "text/latex": [
       "A tibble: 1 × 1\n",
       "\\begin{tabular}{l}\n",
       " english\\\\\n",
       " <dbl>\\\\\n",
       "\\hline\n",
       "\t 60\\\\\n",
       "\\end{tabular}\n"
      ],
      "text/markdown": [
       "\n",
       "A tibble: 1 × 1\n",
       "\n",
       "| english &lt;dbl&gt; |\n",
       "|---|\n",
       "| 60 |\n",
       "\n"
      ],
      "text/plain": [
       "  english\n",
       "1 60     "
      ]
     },
     "metadata": {},
     "output_type": "display_data"
    }
   ],
   "source": [
    "my_df[1, 2]"
   ]
  },
  {
   "cell_type": "markdown",
   "id": "2ac72241",
   "metadata": {},
   "source": [
    "#### 3.4.3.2 1列の取り出し（結果は1次元データ）"
   ]
  },
  {
   "cell_type": "code",
   "execution_count": 88,
   "id": "7c18c2c5",
   "metadata": {
    "collapsed": false,
    "jupyter": {
     "outputs_hidden": false
    }
   },
   "outputs": [
    {
     "data": {
      "text/html": [
       "<style>\n",
       ".list-inline {list-style: none; margin:0; padding: 0}\n",
       ".list-inline>li {display: inline-block}\n",
       ".list-inline>li:not(:last-child)::after {content: \"\\00b7\"; padding: 0 .5ex}\n",
       "</style>\n",
       "<ol class=list-inline><li>60</li><li>90</li><li>70</li><li>90</li></ol>\n"
      ],
      "text/latex": [
       "\\begin{enumerate*}\n",
       "\\item 60\n",
       "\\item 90\n",
       "\\item 70\n",
       "\\item 90\n",
       "\\end{enumerate*}\n"
      ],
      "text/markdown": [
       "1. 60\n",
       "2. 90\n",
       "3. 70\n",
       "4. 90\n",
       "\n",
       "\n"
      ],
      "text/plain": [
       "[1] 60 90 70 90"
      ]
     },
     "metadata": {},
     "output_type": "display_data"
    }
   ],
   "source": [
    "x <- my_df[, 2]\n",
    "x <- my_df$english\n",
    "x <- my_df$\"english\"\n",
    "x <- my_df[[\"english\"]]\n",
    "tmp <- \"english\"\n",
    "x <- my_df[[tmp]]\n",
    "x"
   ]
  },
  {
   "cell_type": "markdown",
   "id": "a2fc33e0",
   "metadata": {},
   "source": [
    "#### 3.4.3.3 複数列の取り出し（結果はデータフレーム）\n"
   ]
  },
  {
   "cell_type": "code",
   "execution_count": 89,
   "id": "f574f94b",
   "metadata": {
    "collapsed": false,
    "jupyter": {
     "outputs_hidden": false
    }
   },
   "outputs": [
    {
     "data": {
      "text/html": [
       "<table class=\"dataframe\">\n",
       "<caption>A tibble: 4 × 2</caption>\n",
       "<thead>\n",
       "\t<tr><th scope=col>name</th><th scope=col>math</th></tr>\n",
       "\t<tr><th scope=col>&lt;chr&gt;</th><th scope=col>&lt;dbl&gt;</th></tr>\n",
       "</thead>\n",
       "<tbody>\n",
       "\t<tr><td>A</td><td> 70</td></tr>\n",
       "\t<tr><td>B</td><td> 80</td></tr>\n",
       "\t<tr><td>C</td><td> 90</td></tr>\n",
       "\t<tr><td>D</td><td>100</td></tr>\n",
       "</tbody>\n",
       "</table>\n"
      ],
      "text/latex": [
       "A tibble: 4 × 2\n",
       "\\begin{tabular}{ll}\n",
       " name & math\\\\\n",
       " <chr> & <dbl>\\\\\n",
       "\\hline\n",
       "\t A &  70\\\\\n",
       "\t B &  80\\\\\n",
       "\t C &  90\\\\\n",
       "\t D & 100\\\\\n",
       "\\end{tabular}\n"
      ],
      "text/markdown": [
       "\n",
       "A tibble: 4 × 2\n",
       "\n",
       "| name &lt;chr&gt; | math &lt;dbl&gt; |\n",
       "|---|---|\n",
       "| A |  70 |\n",
       "| B |  80 |\n",
       "| C |  90 |\n",
       "| D | 100 |\n",
       "\n"
      ],
      "text/plain": [
       "  name math\n",
       "1 A     70 \n",
       "2 B     80 \n",
       "3 C     90 \n",
       "4 D    100 "
      ]
     },
     "metadata": {},
     "output_type": "display_data"
    }
   ],
   "source": [
    "x <- my_df %>% select(name, math)\n",
    "x"
   ]
  },
  {
   "cell_type": "code",
   "execution_count": 90,
   "id": "e090c37a",
   "metadata": {
    "collapsed": false,
    "jupyter": {
     "outputs_hidden": false
    }
   },
   "outputs": [
    {
     "data": {
      "text/html": [
       "<table class=\"dataframe\">\n",
       "<caption>A tibble: 4 × 2</caption>\n",
       "<thead>\n",
       "\t<tr><th scope=col>name</th><th scope=col>math</th></tr>\n",
       "\t<tr><th scope=col>&lt;chr&gt;</th><th scope=col>&lt;dbl&gt;</th></tr>\n",
       "</thead>\n",
       "<tbody>\n",
       "\t<tr><td>A</td><td> 70</td></tr>\n",
       "\t<tr><td>B</td><td> 80</td></tr>\n",
       "\t<tr><td>C</td><td> 90</td></tr>\n",
       "\t<tr><td>D</td><td>100</td></tr>\n",
       "</tbody>\n",
       "</table>\n"
      ],
      "text/latex": [
       "A tibble: 4 × 2\n",
       "\\begin{tabular}{ll}\n",
       " name & math\\\\\n",
       " <chr> & <dbl>\\\\\n",
       "\\hline\n",
       "\t A &  70\\\\\n",
       "\t B &  80\\\\\n",
       "\t C &  90\\\\\n",
       "\t D & 100\\\\\n",
       "\\end{tabular}\n"
      ],
      "text/markdown": [
       "\n",
       "A tibble: 4 × 2\n",
       "\n",
       "| name &lt;chr&gt; | math &lt;dbl&gt; |\n",
       "|---|---|\n",
       "| A |  70 |\n",
       "| B |  80 |\n",
       "| C |  90 |\n",
       "| D | 100 |\n",
       "\n"
      ],
      "text/plain": [
       "  name math\n",
       "1 A     70 \n",
       "2 B     80 \n",
       "3 C     90 \n",
       "4 D    100 "
      ]
     },
     "metadata": {},
     "output_type": "display_data"
    }
   ],
   "source": [
    "x <- my_df[, c(1, 3)]\n",
    "x"
   ]
  },
  {
   "cell_type": "code",
   "execution_count": 91,
   "id": "21cf0e17",
   "metadata": {
    "collapsed": false,
    "jupyter": {
     "outputs_hidden": false
    }
   },
   "outputs": [
    {
     "data": {
      "text/html": [
       "<table class=\"dataframe\">\n",
       "<caption>A tibble: 4 × 2</caption>\n",
       "<thead>\n",
       "\t<tr><th scope=col>name</th><th scope=col>math</th></tr>\n",
       "\t<tr><th scope=col>&lt;chr&gt;</th><th scope=col>&lt;dbl&gt;</th></tr>\n",
       "</thead>\n",
       "<tbody>\n",
       "\t<tr><td>A</td><td> 70</td></tr>\n",
       "\t<tr><td>B</td><td> 80</td></tr>\n",
       "\t<tr><td>C</td><td> 90</td></tr>\n",
       "\t<tr><td>D</td><td>100</td></tr>\n",
       "</tbody>\n",
       "</table>\n"
      ],
      "text/latex": [
       "A tibble: 4 × 2\n",
       "\\begin{tabular}{ll}\n",
       " name & math\\\\\n",
       " <chr> & <dbl>\\\\\n",
       "\\hline\n",
       "\t A &  70\\\\\n",
       "\t B &  80\\\\\n",
       "\t C &  90\\\\\n",
       "\t D & 100\\\\\n",
       "\\end{tabular}\n"
      ],
      "text/markdown": [
       "\n",
       "A tibble: 4 × 2\n",
       "\n",
       "| name &lt;chr&gt; | math &lt;dbl&gt; |\n",
       "|---|---|\n",
       "| A |  70 |\n",
       "| B |  80 |\n",
       "| C |  90 |\n",
       "| D | 100 |\n",
       "\n"
      ],
      "text/plain": [
       "  name math\n",
       "1 A     70 \n",
       "2 B     80 \n",
       "3 C     90 \n",
       "4 D    100 "
      ]
     },
     "metadata": {},
     "output_type": "display_data"
    }
   ],
   "source": [
    "x <- my_df %>% select(-c(english, gender))\n",
    "x <- my_df[, -c(2, 4)]\n",
    "x"
   ]
  },
  {
   "cell_type": "markdown",
   "id": "a5d92447",
   "metadata": {},
   "source": [
    "#### 3.4.3.4 複数行の取り出し（結果はデータフレーム）"
   ]
  },
  {
   "cell_type": "code",
   "execution_count": 92,
   "id": "2f1ac61b",
   "metadata": {
    "collapsed": false,
    "jupyter": {
     "outputs_hidden": false
    }
   },
   "outputs": [
    {
     "data": {
      "text/html": [
       "<table class=\"dataframe\">\n",
       "<caption>A tibble: 2 × 4</caption>\n",
       "<thead>\n",
       "\t<tr><th scope=col>name</th><th scope=col>english</th><th scope=col>math</th><th scope=col>gender</th></tr>\n",
       "\t<tr><th scope=col>&lt;chr&gt;</th><th scope=col>&lt;dbl&gt;</th><th scope=col>&lt;dbl&gt;</th><th scope=col>&lt;chr&gt;</th></tr>\n",
       "</thead>\n",
       "<tbody>\n",
       "\t<tr><td>A</td><td>60</td><td>70</td><td>f</td></tr>\n",
       "\t<tr><td>C</td><td>70</td><td>90</td><td>m</td></tr>\n",
       "</tbody>\n",
       "</table>\n"
      ],
      "text/latex": [
       "A tibble: 2 × 4\n",
       "\\begin{tabular}{llll}\n",
       " name & english & math & gender\\\\\n",
       " <chr> & <dbl> & <dbl> & <chr>\\\\\n",
       "\\hline\n",
       "\t A & 60 & 70 & f\\\\\n",
       "\t C & 70 & 90 & m\\\\\n",
       "\\end{tabular}\n"
      ],
      "text/markdown": [
       "\n",
       "A tibble: 2 × 4\n",
       "\n",
       "| name &lt;chr&gt; | english &lt;dbl&gt; | math &lt;dbl&gt; | gender &lt;chr&gt; |\n",
       "|---|---|---|---|\n",
       "| A | 60 | 70 | f |\n",
       "| C | 70 | 90 | m |\n",
       "\n"
      ],
      "text/plain": [
       "  name english math gender\n",
       "1 A    60      70   f     \n",
       "2 C    70      90   m     "
      ]
     },
     "metadata": {},
     "output_type": "display_data"
    }
   ],
   "source": [
    "x <- my_df[c(1, 3), ]\n",
    "x"
   ]
  },
  {
   "cell_type": "code",
   "execution_count": 93,
   "id": "58c54de4",
   "metadata": {
    "collapsed": false,
    "jupyter": {
     "outputs_hidden": false
    }
   },
   "outputs": [
    {
     "data": {
      "text/html": [
       "<table class=\"dataframe\">\n",
       "<caption>A tibble: 2 × 4</caption>\n",
       "<thead>\n",
       "\t<tr><th scope=col>name</th><th scope=col>english</th><th scope=col>math</th><th scope=col>gender</th></tr>\n",
       "\t<tr><th scope=col>&lt;chr&gt;</th><th scope=col>&lt;dbl&gt;</th><th scope=col>&lt;dbl&gt;</th><th scope=col>&lt;chr&gt;</th></tr>\n",
       "</thead>\n",
       "<tbody>\n",
       "\t<tr><td>A</td><td>60</td><td>70</td><td>f</td></tr>\n",
       "\t<tr><td>C</td><td>70</td><td>90</td><td>m</td></tr>\n",
       "</tbody>\n",
       "</table>\n"
      ],
      "text/latex": [
       "A tibble: 2 × 4\n",
       "\\begin{tabular}{llll}\n",
       " name & english & math & gender\\\\\n",
       " <chr> & <dbl> & <dbl> & <chr>\\\\\n",
       "\\hline\n",
       "\t A & 60 & 70 & f\\\\\n",
       "\t C & 70 & 90 & m\\\\\n",
       "\\end{tabular}\n"
      ],
      "text/markdown": [
       "\n",
       "A tibble: 2 × 4\n",
       "\n",
       "| name &lt;chr&gt; | english &lt;dbl&gt; | math &lt;dbl&gt; | gender &lt;chr&gt; |\n",
       "|---|---|---|---|\n",
       "| A | 60 | 70 | f |\n",
       "| C | 70 | 90 | m |\n",
       "\n"
      ],
      "text/plain": [
       "  name english math gender\n",
       "1 A    60      70   f     \n",
       "2 C    70      90   m     "
      ]
     },
     "metadata": {},
     "output_type": "display_data"
    }
   ],
   "source": [
    "x <- my_df[-c(2, 4), ]\n",
    "x"
   ]
  },
  {
   "cell_type": "markdown",
   "id": "af6148f7",
   "metadata": {},
   "source": [
    "#### 3.4.3.5 検索"
   ]
  },
  {
   "cell_type": "code",
   "execution_count": 94,
   "id": "678bb1c7",
   "metadata": {
    "collapsed": false,
    "jupyter": {
     "outputs_hidden": false
    }
   },
   "outputs": [
    {
     "data": {
      "text/html": [
       "<table class=\"dataframe\">\n",
       "<caption>A tibble: 2 × 4</caption>\n",
       "<thead>\n",
       "\t<tr><th scope=col>name</th><th scope=col>english</th><th scope=col>math</th><th scope=col>gender</th></tr>\n",
       "\t<tr><th scope=col>&lt;chr&gt;</th><th scope=col>&lt;dbl&gt;</th><th scope=col>&lt;dbl&gt;</th><th scope=col>&lt;chr&gt;</th></tr>\n",
       "</thead>\n",
       "<tbody>\n",
       "\t<tr><td>B</td><td>90</td><td>80</td><td>m</td></tr>\n",
       "\t<tr><td>C</td><td>70</td><td>90</td><td>m</td></tr>\n",
       "</tbody>\n",
       "</table>\n"
      ],
      "text/latex": [
       "A tibble: 2 × 4\n",
       "\\begin{tabular}{llll}\n",
       " name & english & math & gender\\\\\n",
       " <chr> & <dbl> & <dbl> & <chr>\\\\\n",
       "\\hline\n",
       "\t B & 90 & 80 & m\\\\\n",
       "\t C & 70 & 90 & m\\\\\n",
       "\\end{tabular}\n"
      ],
      "text/markdown": [
       "\n",
       "A tibble: 2 × 4\n",
       "\n",
       "| name &lt;chr&gt; | english &lt;dbl&gt; | math &lt;dbl&gt; | gender &lt;chr&gt; |\n",
       "|---|---|---|---|\n",
       "| B | 90 | 80 | m |\n",
       "| C | 70 | 90 | m |\n",
       "\n"
      ],
      "text/plain": [
       "  name english math gender\n",
       "1 B    90      80   m     \n",
       "2 C    70      90   m     "
      ]
     },
     "metadata": {},
     "output_type": "display_data"
    }
   ],
   "source": [
    "x <- my_df[my_df$gender == \"m\", ]\n",
    "x <- my_df %>% filter(gender == \"m\")\n",
    "x"
   ]
  },
  {
   "cell_type": "code",
   "execution_count": 95,
   "id": "8e5a8bde",
   "metadata": {
    "collapsed": false,
    "jupyter": {
     "outputs_hidden": false
    }
   },
   "outputs": [
    {
     "data": {
      "text/html": [
       "<table class=\"dataframe\">\n",
       "<caption>A tibble: 1 × 4</caption>\n",
       "<thead>\n",
       "\t<tr><th scope=col>name</th><th scope=col>english</th><th scope=col>math</th><th scope=col>gender</th></tr>\n",
       "\t<tr><th scope=col>&lt;chr&gt;</th><th scope=col>&lt;dbl&gt;</th><th scope=col>&lt;dbl&gt;</th><th scope=col>&lt;chr&gt;</th></tr>\n",
       "</thead>\n",
       "<tbody>\n",
       "\t<tr><td>B</td><td>90</td><td>80</td><td>m</td></tr>\n",
       "</tbody>\n",
       "</table>\n"
      ],
      "text/latex": [
       "A tibble: 1 × 4\n",
       "\\begin{tabular}{llll}\n",
       " name & english & math & gender\\\\\n",
       " <chr> & <dbl> & <dbl> & <chr>\\\\\n",
       "\\hline\n",
       "\t B & 90 & 80 & m\\\\\n",
       "\\end{tabular}\n"
      ],
      "text/markdown": [
       "\n",
       "A tibble: 1 × 4\n",
       "\n",
       "| name &lt;chr&gt; | english &lt;dbl&gt; | math &lt;dbl&gt; | gender &lt;chr&gt; |\n",
       "|---|---|---|---|\n",
       "| B | 90 | 80 | m |\n",
       "\n"
      ],
      "text/plain": [
       "  name english math gender\n",
       "1 B    90      80   m     "
      ]
     },
     "metadata": {},
     "output_type": "display_data"
    }
   ],
   "source": [
    "x <- my_df[my_df$english > 80 & my_df$gender == \"m\", ]\n",
    "x <- my_df %>% filter(english > 80 & gender == \"m\")\n",
    "x"
   ]
  },
  {
   "cell_type": "code",
   "execution_count": 96,
   "id": "453e346e",
   "metadata": {
    "collapsed": false,
    "jupyter": {
     "outputs_hidden": false
    }
   },
   "outputs": [
    {
     "data": {
      "text/html": [
       "<table class=\"dataframe\">\n",
       "<caption>A tibble: 2 × 4</caption>\n",
       "<thead>\n",
       "\t<tr><th scope=col>name</th><th scope=col>english</th><th scope=col>math</th><th scope=col>gender</th></tr>\n",
       "\t<tr><th scope=col>&lt;chr&gt;</th><th scope=col>&lt;dbl&gt;</th><th scope=col>&lt;dbl&gt;</th><th scope=col>&lt;chr&gt;</th></tr>\n",
       "</thead>\n",
       "<tbody>\n",
       "\t<tr><td>B</td><td>90</td><td> 80</td><td>m</td></tr>\n",
       "\t<tr><td>D</td><td>90</td><td>100</td><td>f</td></tr>\n",
       "</tbody>\n",
       "</table>\n"
      ],
      "text/latex": [
       "A tibble: 2 × 4\n",
       "\\begin{tabular}{llll}\n",
       " name & english & math & gender\\\\\n",
       " <chr> & <dbl> & <dbl> & <chr>\\\\\n",
       "\\hline\n",
       "\t B & 90 &  80 & m\\\\\n",
       "\t D & 90 & 100 & f\\\\\n",
       "\\end{tabular}\n"
      ],
      "text/markdown": [
       "\n",
       "A tibble: 2 × 4\n",
       "\n",
       "| name &lt;chr&gt; | english &lt;dbl&gt; | math &lt;dbl&gt; | gender &lt;chr&gt; |\n",
       "|---|---|---|---|\n",
       "| B | 90 |  80 | m |\n",
       "| D | 90 | 100 | f |\n",
       "\n"
      ],
      "text/plain": [
       "  name english math gender\n",
       "1 B    90       80  m     \n",
       "2 D    90      100  f     "
      ]
     },
     "metadata": {},
     "output_type": "display_data"
    }
   ],
   "source": [
    "x <- my_df[my_df$english == max(my_df$english), ]\n",
    "x <- my_df %>% filter(english == max(my_df$english))\n",
    "x"
   ]
  },
  {
   "cell_type": "code",
   "execution_count": 97,
   "id": "d4fc6409",
   "metadata": {
    "collapsed": false,
    "jupyter": {
     "outputs_hidden": false
    }
   },
   "outputs": [],
   "source": [
    "my_df2 <- my_df\n",
    "my_df2[my_df$gender == \"m\", ]$gender <- \"M\""
   ]
  },
  {
   "cell_type": "code",
   "execution_count": 98,
   "id": "63be709e",
   "metadata": {
    "collapsed": false,
    "jupyter": {
     "outputs_hidden": false
    }
   },
   "outputs": [
    {
     "data": {
      "text/html": [
       "<table class=\"dataframe\">\n",
       "<caption>A tibble: 4 × 4</caption>\n",
       "<thead>\n",
       "\t<tr><th scope=col>name</th><th scope=col>english</th><th scope=col>math</th><th scope=col>gender</th></tr>\n",
       "\t<tr><th scope=col>&lt;chr&gt;</th><th scope=col>&lt;dbl&gt;</th><th scope=col>&lt;dbl&gt;</th><th scope=col>&lt;chr&gt;</th></tr>\n",
       "</thead>\n",
       "<tbody>\n",
       "\t<tr><td>A</td><td>60</td><td> 70</td><td>f</td></tr>\n",
       "\t<tr><td>B</td><td>90</td><td> 80</td><td>M</td></tr>\n",
       "\t<tr><td>C</td><td>70</td><td> 90</td><td>M</td></tr>\n",
       "\t<tr><td>D</td><td>90</td><td>100</td><td>f</td></tr>\n",
       "</tbody>\n",
       "</table>\n"
      ],
      "text/latex": [
       "A tibble: 4 × 4\n",
       "\\begin{tabular}{llll}\n",
       " name & english & math & gender\\\\\n",
       " <chr> & <dbl> & <dbl> & <chr>\\\\\n",
       "\\hline\n",
       "\t A & 60 &  70 & f\\\\\n",
       "\t B & 90 &  80 & M\\\\\n",
       "\t C & 70 &  90 & M\\\\\n",
       "\t D & 90 & 100 & f\\\\\n",
       "\\end{tabular}\n"
      ],
      "text/markdown": [
       "\n",
       "A tibble: 4 × 4\n",
       "\n",
       "| name &lt;chr&gt; | english &lt;dbl&gt; | math &lt;dbl&gt; | gender &lt;chr&gt; |\n",
       "|---|---|---|---|\n",
       "| A | 60 |  70 | f |\n",
       "| B | 90 |  80 | M |\n",
       "| C | 70 |  90 | M |\n",
       "| D | 90 | 100 | f |\n",
       "\n"
      ],
      "text/plain": [
       "  name english math gender\n",
       "1 A    60       70  f     \n",
       "2 B    90       80  M     \n",
       "3 C    70       90  M     \n",
       "4 D    90      100  f     "
      ]
     },
     "metadata": {},
     "output_type": "display_data"
    }
   ],
   "source": [
    "my_df2"
   ]
  },
  {
   "cell_type": "markdown",
   "id": "304059c3",
   "metadata": {},
   "source": [
    "#### 3.4.3.6 並べ替え"
   ]
  },
  {
   "cell_type": "code",
   "execution_count": 99,
   "id": "599f98a9",
   "metadata": {
    "collapsed": false,
    "jupyter": {
     "outputs_hidden": false
    }
   },
   "outputs": [
    {
     "data": {
      "text/html": [
       "<table class=\"dataframe\">\n",
       "<caption>A tibble: 4 × 4</caption>\n",
       "<thead>\n",
       "\t<tr><th scope=col>name</th><th scope=col>english</th><th scope=col>math</th><th scope=col>gender</th></tr>\n",
       "\t<tr><th scope=col>&lt;chr&gt;</th><th scope=col>&lt;dbl&gt;</th><th scope=col>&lt;dbl&gt;</th><th scope=col>&lt;chr&gt;</th></tr>\n",
       "</thead>\n",
       "<tbody>\n",
       "\t<tr><td>A</td><td>60</td><td> 70</td><td>f</td></tr>\n",
       "\t<tr><td>C</td><td>70</td><td> 90</td><td>m</td></tr>\n",
       "\t<tr><td>B</td><td>90</td><td> 80</td><td>m</td></tr>\n",
       "\t<tr><td>D</td><td>90</td><td>100</td><td>f</td></tr>\n",
       "</tbody>\n",
       "</table>\n"
      ],
      "text/latex": [
       "A tibble: 4 × 4\n",
       "\\begin{tabular}{llll}\n",
       " name & english & math & gender\\\\\n",
       " <chr> & <dbl> & <dbl> & <chr>\\\\\n",
       "\\hline\n",
       "\t A & 60 &  70 & f\\\\\n",
       "\t C & 70 &  90 & m\\\\\n",
       "\t B & 90 &  80 & m\\\\\n",
       "\t D & 90 & 100 & f\\\\\n",
       "\\end{tabular}\n"
      ],
      "text/markdown": [
       "\n",
       "A tibble: 4 × 4\n",
       "\n",
       "| name &lt;chr&gt; | english &lt;dbl&gt; | math &lt;dbl&gt; | gender &lt;chr&gt; |\n",
       "|---|---|---|---|\n",
       "| A | 60 |  70 | f |\n",
       "| C | 70 |  90 | m |\n",
       "| B | 90 |  80 | m |\n",
       "| D | 90 | 100 | f |\n",
       "\n"
      ],
      "text/plain": [
       "  name english math gender\n",
       "1 A    60       70  f     \n",
       "2 C    70       90  m     \n",
       "3 B    90       80  m     \n",
       "4 D    90      100  f     "
      ]
     },
     "metadata": {},
     "output_type": "display_data"
    }
   ],
   "source": [
    "x <- my_df %>% arrange(english)\n",
    "x"
   ]
  },
  {
   "cell_type": "code",
   "execution_count": 100,
   "id": "2dcb45c1",
   "metadata": {
    "collapsed": false,
    "jupyter": {
     "outputs_hidden": false
    }
   },
   "outputs": [
    {
     "data": {
      "text/html": [
       "<table class=\"dataframe\">\n",
       "<caption>A tibble: 4 × 4</caption>\n",
       "<thead>\n",
       "\t<tr><th scope=col>name</th><th scope=col>english</th><th scope=col>math</th><th scope=col>gender</th></tr>\n",
       "\t<tr><th scope=col>&lt;chr&gt;</th><th scope=col>&lt;dbl&gt;</th><th scope=col>&lt;dbl&gt;</th><th scope=col>&lt;chr&gt;</th></tr>\n",
       "</thead>\n",
       "<tbody>\n",
       "\t<tr><td>B</td><td>90</td><td> 80</td><td>m</td></tr>\n",
       "\t<tr><td>D</td><td>90</td><td>100</td><td>f</td></tr>\n",
       "\t<tr><td>C</td><td>70</td><td> 90</td><td>m</td></tr>\n",
       "\t<tr><td>A</td><td>60</td><td> 70</td><td>f</td></tr>\n",
       "</tbody>\n",
       "</table>\n"
      ],
      "text/latex": [
       "A tibble: 4 × 4\n",
       "\\begin{tabular}{llll}\n",
       " name & english & math & gender\\\\\n",
       " <chr> & <dbl> & <dbl> & <chr>\\\\\n",
       "\\hline\n",
       "\t B & 90 &  80 & m\\\\\n",
       "\t D & 90 & 100 & f\\\\\n",
       "\t C & 70 &  90 & m\\\\\n",
       "\t A & 60 &  70 & f\\\\\n",
       "\\end{tabular}\n"
      ],
      "text/markdown": [
       "\n",
       "A tibble: 4 × 4\n",
       "\n",
       "| name &lt;chr&gt; | english &lt;dbl&gt; | math &lt;dbl&gt; | gender &lt;chr&gt; |\n",
       "|---|---|---|---|\n",
       "| B | 90 |  80 | m |\n",
       "| D | 90 | 100 | f |\n",
       "| C | 70 |  90 | m |\n",
       "| A | 60 |  70 | f |\n",
       "\n"
      ],
      "text/plain": [
       "  name english math gender\n",
       "1 B    90       80  m     \n",
       "2 D    90      100  f     \n",
       "3 C    70       90  m     \n",
       "4 A    60       70  f     "
      ]
     },
     "metadata": {},
     "output_type": "display_data"
    }
   ],
   "source": [
    "x <- my_df %>% arrange(-english)\n",
    "x"
   ]
  },
  {
   "cell_type": "markdown",
   "id": "3c284f01",
   "metadata": {},
   "source": [
    "### 3.4.4 補足：行列"
   ]
  },
  {
   "cell_type": "markdown",
   "id": "ee469e62",
   "metadata": {},
   "source": [
    "#### 3.4.4.1 行列の生成"
   ]
  },
  {
   "cell_type": "code",
   "execution_count": 101,
   "id": "43f27721",
   "metadata": {
    "collapsed": false,
    "jupyter": {
     "outputs_hidden": false
    }
   },
   "outputs": [
    {
     "data": {
      "text/html": [
       "<table class=\"dataframe\">\n",
       "<caption>A matrix: 3 × 4 of type dbl</caption>\n",
       "<tbody>\n",
       "\t<tr><td> 2</td><td> 3</td><td> 5</td><td> 7</td></tr>\n",
       "\t<tr><td>11</td><td>13</td><td>17</td><td>19</td></tr>\n",
       "\t<tr><td>23</td><td>29</td><td>31</td><td>37</td></tr>\n",
       "</tbody>\n",
       "</table>\n"
      ],
      "text/latex": [
       "A matrix: 3 × 4 of type dbl\n",
       "\\begin{tabular}{llll}\n",
       "\t  2 &  3 &  5 &  7\\\\\n",
       "\t 11 & 13 & 17 & 19\\\\\n",
       "\t 23 & 29 & 31 & 37\\\\\n",
       "\\end{tabular}\n"
      ],
      "text/markdown": [
       "\n",
       "A matrix: 3 × 4 of type dbl\n",
       "\n",
       "|  2 |  3 |  5 |  7 |\n",
       "| 11 | 13 | 17 | 19 |\n",
       "| 23 | 29 | 31 | 37 |\n",
       "\n"
      ],
      "text/plain": [
       "     [,1] [,2] [,3] [,4]\n",
       "[1,]  2    3    5    7  \n",
       "[2,] 11   13   17   19  \n",
       "[3,] 23   29   31   37  "
      ]
     },
     "metadata": {},
     "output_type": "display_data"
    }
   ],
   "source": [
    "x <- c(2, 3, 5, 7, 11, 13, 17, 19, 23, 29, 31, 37)\n",
    "A <- matrix(\n",
    "  data = x,\n",
    "  nrow = 3,\n",
    "  byrow = TRUE\n",
    ")\n",
    "A"
   ]
  },
  {
   "cell_type": "markdown",
   "id": "31448b77",
   "metadata": {},
   "source": [
    "#### 3.4.4.2 データフレームと行列"
   ]
  },
  {
   "cell_type": "code",
   "execution_count": 102,
   "id": "a6bc6d08",
   "metadata": {
    "collapsed": false,
    "jupyter": {
     "outputs_hidden": false
    }
   },
   "outputs": [
    {
     "data": {
      "text/html": [
       "<table class=\"dataframe\">\n",
       "<caption>A matrix: 4 × 2 of type dbl</caption>\n",
       "<thead>\n",
       "\t<tr><th scope=col>english</th><th scope=col>math</th></tr>\n",
       "</thead>\n",
       "<tbody>\n",
       "\t<tr><td>60</td><td> 70</td></tr>\n",
       "\t<tr><td>90</td><td> 80</td></tr>\n",
       "\t<tr><td>70</td><td> 90</td></tr>\n",
       "\t<tr><td>90</td><td>100</td></tr>\n",
       "</tbody>\n",
       "</table>\n"
      ],
      "text/latex": [
       "A matrix: 4 × 2 of type dbl\n",
       "\\begin{tabular}{ll}\n",
       " english & math\\\\\n",
       "\\hline\n",
       "\t 60 &  70\\\\\n",
       "\t 90 &  80\\\\\n",
       "\t 70 &  90\\\\\n",
       "\t 90 & 100\\\\\n",
       "\\end{tabular}\n"
      ],
      "text/markdown": [
       "\n",
       "A matrix: 4 × 2 of type dbl\n",
       "\n",
       "| english | math |\n",
       "|---|---|\n",
       "| 60 |  70 |\n",
       "| 90 |  80 |\n",
       "| 70 |  90 |\n",
       "| 90 | 100 |\n",
       "\n"
      ],
      "text/plain": [
       "     english math\n",
       "[1,] 60       70 \n",
       "[2,] 90       80 \n",
       "[3,] 70       90 \n",
       "[4,] 90      100 "
      ]
     },
     "metadata": {},
     "output_type": "display_data"
    }
   ],
   "source": [
    "A <- my_df[, c(2, 3)] %>% as.matrix\n",
    "A"
   ]
  },
  {
   "cell_type": "code",
   "execution_count": 103,
   "id": "74b5b759",
   "metadata": {
    "collapsed": false,
    "jupyter": {
     "outputs_hidden": false
    }
   },
   "outputs": [
    {
     "data": {
      "text/html": [
       "<table class=\"dataframe\">\n",
       "<caption>A data.frame: 4 × 2</caption>\n",
       "<thead>\n",
       "\t<tr><th scope=col>english</th><th scope=col>math</th></tr>\n",
       "\t<tr><th scope=col>&lt;dbl&gt;</th><th scope=col>&lt;dbl&gt;</th></tr>\n",
       "</thead>\n",
       "<tbody>\n",
       "\t<tr><td>60</td><td> 70</td></tr>\n",
       "\t<tr><td>90</td><td> 80</td></tr>\n",
       "\t<tr><td>70</td><td> 90</td></tr>\n",
       "\t<tr><td>90</td><td>100</td></tr>\n",
       "</tbody>\n",
       "</table>\n"
      ],
      "text/latex": [
       "A data.frame: 4 × 2\n",
       "\\begin{tabular}{ll}\n",
       " english & math\\\\\n",
       " <dbl> & <dbl>\\\\\n",
       "\\hline\n",
       "\t 60 &  70\\\\\n",
       "\t 90 &  80\\\\\n",
       "\t 70 &  90\\\\\n",
       "\t 90 & 100\\\\\n",
       "\\end{tabular}\n"
      ],
      "text/markdown": [
       "\n",
       "A data.frame: 4 × 2\n",
       "\n",
       "| english &lt;dbl&gt; | math &lt;dbl&gt; |\n",
       "|---|---|\n",
       "| 60 |  70 |\n",
       "| 90 |  80 |\n",
       "| 70 |  90 |\n",
       "| 90 | 100 |\n",
       "\n"
      ],
      "text/plain": [
       "  english math\n",
       "1 60       70 \n",
       "2 90       80 \n",
       "3 70       90 \n",
       "4 90      100 "
      ]
     },
     "metadata": {},
     "output_type": "display_data"
    }
   ],
   "source": [
    "as.data.frame(A)"
   ]
  },
  {
   "cell_type": "markdown",
   "id": "e29185b3",
   "metadata": {},
   "source": [
    "#### 3.4.4.3 行列の変形"
   ]
  },
  {
   "cell_type": "code",
   "execution_count": 104,
   "id": "51818718",
   "metadata": {
    "collapsed": false,
    "jupyter": {
     "outputs_hidden": false
    }
   },
   "outputs": [
    {
     "data": {
      "text/html": [
       "<table class=\"dataframe\">\n",
       "<caption>A matrix: 2 × 4 of type dbl</caption>\n",
       "<tbody>\n",
       "\t<tr><th scope=row>english</th><td>60</td><td>90</td><td>70</td><td> 90</td></tr>\n",
       "\t<tr><th scope=row>math</th><td>70</td><td>80</td><td>90</td><td>100</td></tr>\n",
       "</tbody>\n",
       "</table>\n"
      ],
      "text/latex": [
       "A matrix: 2 × 4 of type dbl\n",
       "\\begin{tabular}{r|llll}\n",
       "\tenglish & 60 & 90 & 70 &  90\\\\\n",
       "\tmath & 70 & 80 & 90 & 100\\\\\n",
       "\\end{tabular}\n"
      ],
      "text/markdown": [
       "\n",
       "A matrix: 2 × 4 of type dbl\n",
       "\n",
       "| english | 60 | 90 | 70 |  90 |\n",
       "| math | 70 | 80 | 90 | 100 |\n",
       "\n"
      ],
      "text/plain": [
       "        [,1] [,2] [,3] [,4]\n",
       "english 60   90   70    90 \n",
       "math    70   80   90   100 "
      ]
     },
     "metadata": {},
     "output_type": "display_data"
    }
   ],
   "source": [
    "t(A)"
   ]
  },
  {
   "cell_type": "markdown",
   "id": "44f40f15",
   "metadata": {},
   "source": [
    "#### 3.4.4.4 行列の積"
   ]
  },
  {
   "cell_type": "code",
   "execution_count": 105,
   "id": "470a197c",
   "metadata": {
    "collapsed": false,
    "jupyter": {
     "outputs_hidden": false
    }
   },
   "outputs": [
    {
     "data": {
      "text/html": [
       "<table class=\"dataframe\">\n",
       "<caption>A matrix: 2 × 2 of type dbl</caption>\n",
       "<thead>\n",
       "\t<tr><th></th><th scope=col>english</th><th scope=col>math</th></tr>\n",
       "</thead>\n",
       "<tbody>\n",
       "\t<tr><th scope=row>english</th><td>24700</td><td>26700</td></tr>\n",
       "\t<tr><th scope=row>math</th><td>26700</td><td>29400</td></tr>\n",
       "</tbody>\n",
       "</table>\n"
      ],
      "text/latex": [
       "A matrix: 2 × 2 of type dbl\n",
       "\\begin{tabular}{r|ll}\n",
       "  & english & math\\\\\n",
       "\\hline\n",
       "\tenglish & 24700 & 26700\\\\\n",
       "\tmath & 26700 & 29400\\\\\n",
       "\\end{tabular}\n"
      ],
      "text/markdown": [
       "\n",
       "A matrix: 2 × 2 of type dbl\n",
       "\n",
       "| <!--/--> | english | math |\n",
       "|---|---|---|\n",
       "| english | 24700 | 26700 |\n",
       "| math | 26700 | 29400 |\n",
       "\n"
      ],
      "text/plain": [
       "        english math \n",
       "english 24700   26700\n",
       "math    26700   29400"
      ]
     },
     "metadata": {},
     "output_type": "display_data"
    }
   ],
   "source": [
    "t(A) %*% A"
   ]
  },
  {
   "cell_type": "markdown",
   "id": "20de79f0",
   "metadata": {},
   "source": [
    "### 3.4.5 横型と縦型"
   ]
  },
  {
   "cell_type": "code",
   "execution_count": 106,
   "id": "b2dbf095",
   "metadata": {
    "collapsed": false,
    "jupyter": {
     "outputs_hidden": false
    }
   },
   "outputs": [
    {
     "data": {
      "text/html": [
       "<table class=\"dataframe\">\n",
       "<caption>A data.frame: 3 × 3</caption>\n",
       "<thead>\n",
       "\t<tr><th scope=col>day</th><th scope=col>min</th><th scope=col>max</th></tr>\n",
       "\t<tr><th scope=col>&lt;dbl&gt;</th><th scope=col>&lt;dbl&gt;</th><th scope=col>&lt;dbl&gt;</th></tr>\n",
       "</thead>\n",
       "<tbody>\n",
       "\t<tr><td>25</td><td>20</td><td>24</td></tr>\n",
       "\t<tr><td>26</td><td>21</td><td>27</td></tr>\n",
       "\t<tr><td>27</td><td>15</td><td>21</td></tr>\n",
       "</tbody>\n",
       "</table>\n"
      ],
      "text/latex": [
       "A data.frame: 3 × 3\n",
       "\\begin{tabular}{lll}\n",
       " day & min & max\\\\\n",
       " <dbl> & <dbl> & <dbl>\\\\\n",
       "\\hline\n",
       "\t 25 & 20 & 24\\\\\n",
       "\t 26 & 21 & 27\\\\\n",
       "\t 27 & 15 & 21\\\\\n",
       "\\end{tabular}\n"
      ],
      "text/markdown": [
       "\n",
       "A data.frame: 3 × 3\n",
       "\n",
       "| day &lt;dbl&gt; | min &lt;dbl&gt; | max &lt;dbl&gt; |\n",
       "|---|---|---|\n",
       "| 25 | 20 | 24 |\n",
       "| 26 | 21 | 27 |\n",
       "| 27 | 15 | 21 |\n",
       "\n"
      ],
      "text/plain": [
       "  day min max\n",
       "1 25  20  24 \n",
       "2 26  21  27 \n",
       "3 27  15  21 "
      ]
     },
     "metadata": {},
     "output_type": "display_data"
    }
   ],
   "source": [
    "my_wider <- data.frame(\n",
    "  day = c(25, 26, 27),\n",
    "  min = c(20, 21, 15),\n",
    "  max = c(24, 27, 21)\n",
    ")\n",
    "my_wider"
   ]
  },
  {
   "cell_type": "code",
   "execution_count": 107,
   "id": "65090143",
   "metadata": {
    "collapsed": false,
    "jupyter": {
     "outputs_hidden": false
    }
   },
   "outputs": [
    {
     "data": {
      "text/html": [
       "<table class=\"dataframe\">\n",
       "<caption>A tibble: 6 × 3</caption>\n",
       "<thead>\n",
       "\t<tr><th scope=col>day</th><th scope=col>name</th><th scope=col>value</th></tr>\n",
       "\t<tr><th scope=col>&lt;dbl&gt;</th><th scope=col>&lt;chr&gt;</th><th scope=col>&lt;dbl&gt;</th></tr>\n",
       "</thead>\n",
       "<tbody>\n",
       "\t<tr><td>25</td><td>min</td><td>20</td></tr>\n",
       "\t<tr><td>25</td><td>max</td><td>24</td></tr>\n",
       "\t<tr><td>26</td><td>min</td><td>21</td></tr>\n",
       "\t<tr><td>26</td><td>max</td><td>27</td></tr>\n",
       "\t<tr><td>27</td><td>min</td><td>15</td></tr>\n",
       "\t<tr><td>27</td><td>max</td><td>21</td></tr>\n",
       "</tbody>\n",
       "</table>\n"
      ],
      "text/latex": [
       "A tibble: 6 × 3\n",
       "\\begin{tabular}{lll}\n",
       " day & name & value\\\\\n",
       " <dbl> & <chr> & <dbl>\\\\\n",
       "\\hline\n",
       "\t 25 & min & 20\\\\\n",
       "\t 25 & max & 24\\\\\n",
       "\t 26 & min & 21\\\\\n",
       "\t 26 & max & 27\\\\\n",
       "\t 27 & min & 15\\\\\n",
       "\t 27 & max & 21\\\\\n",
       "\\end{tabular}\n"
      ],
      "text/markdown": [
       "\n",
       "A tibble: 6 × 3\n",
       "\n",
       "| day &lt;dbl&gt; | name &lt;chr&gt; | value &lt;dbl&gt; |\n",
       "|---|---|---|\n",
       "| 25 | min | 20 |\n",
       "| 25 | max | 24 |\n",
       "| 26 | min | 21 |\n",
       "| 26 | max | 27 |\n",
       "| 27 | min | 15 |\n",
       "| 27 | max | 21 |\n",
       "\n"
      ],
      "text/plain": [
       "  day name value\n",
       "1 25  min  20   \n",
       "2 25  max  24   \n",
       "3 26  min  21   \n",
       "4 26  max  27   \n",
       "5 27  min  15   \n",
       "6 27  max  21   "
      ]
     },
     "metadata": {},
     "output_type": "display_data"
    }
   ],
   "source": [
    "my_longer <- my_wider %>% pivot_longer(-day)\n",
    "my_longer"
   ]
  },
  {
   "cell_type": "code",
   "execution_count": 108,
   "id": "1879aa79",
   "metadata": {
    "collapsed": false,
    "jupyter": {
     "outputs_hidden": false
    }
   },
   "outputs": [
    {
     "data": {
      "text/html": [
       "<table class=\"dataframe\">\n",
       "<caption>A tibble: 3 × 3</caption>\n",
       "<thead>\n",
       "\t<tr><th scope=col>day</th><th scope=col>min</th><th scope=col>max</th></tr>\n",
       "\t<tr><th scope=col>&lt;dbl&gt;</th><th scope=col>&lt;dbl&gt;</th><th scope=col>&lt;dbl&gt;</th></tr>\n",
       "</thead>\n",
       "<tbody>\n",
       "\t<tr><td>25</td><td>20</td><td>24</td></tr>\n",
       "\t<tr><td>26</td><td>21</td><td>27</td></tr>\n",
       "\t<tr><td>27</td><td>15</td><td>21</td></tr>\n",
       "</tbody>\n",
       "</table>\n"
      ],
      "text/latex": [
       "A tibble: 3 × 3\n",
       "\\begin{tabular}{lll}\n",
       " day & min & max\\\\\n",
       " <dbl> & <dbl> & <dbl>\\\\\n",
       "\\hline\n",
       "\t 25 & 20 & 24\\\\\n",
       "\t 26 & 21 & 27\\\\\n",
       "\t 27 & 15 & 21\\\\\n",
       "\\end{tabular}\n"
      ],
      "text/markdown": [
       "\n",
       "A tibble: 3 × 3\n",
       "\n",
       "| day &lt;dbl&gt; | min &lt;dbl&gt; | max &lt;dbl&gt; |\n",
       "|---|---|---|\n",
       "| 25 | 20 | 24 |\n",
       "| 26 | 21 | 27 |\n",
       "| 27 | 15 | 21 |\n",
       "\n"
      ],
      "text/plain": [
       "  day min max\n",
       "1 25  20  24 \n",
       "2 26  21  27 \n",
       "3 27  15  21 "
      ]
     },
     "metadata": {},
     "output_type": "display_data"
    }
   ],
   "source": [
    "my_longer %>% pivot_wider()"
   ]
  },
  {
   "cell_type": "code",
   "execution_count": 109,
   "id": "0e494ca6",
   "metadata": {
    "collapsed": false,
    "jupyter": {
     "outputs_hidden": false
    }
   },
   "outputs": [
    {
     "data": {
      "image/png": "[encoded data removed]",
      "text/plain": [
       "plot without title"
      ]
     },
     "metadata": {
      "image/png": {
       "height": 420,
       "width": 420
      }
     },
     "output_type": "display_data"
    }
   ],
   "source": [
    "my_longer %>%\n",
    "  ggplot(aes(x = day, y = value, color = name)) +\n",
    "  geom_point() +\n",
    "  geom_line() +\n",
    "  ylab(\"temperature\") +\n",
    "  scale_x_continuous(breaks = my_longer$day)"
   ]
  },
  {
   "cell_type": "markdown",
   "id": "c5ba6676",
   "metadata": {},
   "source": [
    "## 3.5 1次元データの（非）類似度"
   ]
  },
  {
   "cell_type": "markdown",
   "id": "3815e8eb",
   "metadata": {},
   "source": [
    "### 3.5.1 ユークリッド距離"
   ]
  },
  {
   "cell_type": "code",
   "execution_count": 110,
   "id": "43a2e906",
   "metadata": {
    "collapsed": false,
    "jupyter": {
     "outputs_hidden": false
    }
   },
   "outputs": [],
   "source": [
    "A <- c(3,   4,  5)\n",
    "B <- c(3,   4, 29)\n",
    "C <- c(9, -18,  8)\n",
    "AB <- B - A\n",
    "AC <- C - A"
   ]
  },
  {
   "cell_type": "code",
   "execution_count": 111,
   "id": "a3ed1061",
   "metadata": {
    "collapsed": false,
    "jupyter": {
     "outputs_hidden": false
    }
   },
   "outputs": [
    {
     "data": {
      "text/html": [
       "24"
      ],
      "text/latex": [
       "24"
      ],
      "text/markdown": [
       "24"
      ],
      "text/plain": [
       "[1] 24"
      ]
     },
     "metadata": {},
     "output_type": "display_data"
    }
   ],
   "source": [
    "sum(AB^2)^0.5"
   ]
  },
  {
   "cell_type": "code",
   "execution_count": 112,
   "id": "8316666c",
   "metadata": {
    "collapsed": false,
    "jupyter": {
     "outputs_hidden": false
    }
   },
   "outputs": [
    {
     "data": {
      "text/html": [
       "23"
      ],
      "text/latex": [
       "23"
      ],
      "text/markdown": [
       "23"
      ],
      "text/plain": [
       "[1] 23"
      ]
     },
     "metadata": {},
     "output_type": "display_data"
    }
   ],
   "source": [
    "sum(AC^2)^0.5"
   ]
  },
  {
   "cell_type": "markdown",
   "id": "683f035d",
   "metadata": {},
   "source": [
    "### 3.5.2 マンハッタン距離"
   ]
  },
  {
   "cell_type": "code",
   "execution_count": 113,
   "id": "be437a75",
   "metadata": {
    "collapsed": false,
    "jupyter": {
     "outputs_hidden": false
    }
   },
   "outputs": [
    {
     "data": {
      "text/html": [
       "24"
      ],
      "text/latex": [
       "24"
      ],
      "text/markdown": [
       "24"
      ],
      "text/plain": [
       "[1] 24"
      ]
     },
     "metadata": {},
     "output_type": "display_data"
    }
   ],
   "source": [
    "sum(abs(AB))"
   ]
  },
  {
   "cell_type": "code",
   "execution_count": 114,
   "id": "af2c6e8e",
   "metadata": {
    "collapsed": false,
    "jupyter": {
     "outputs_hidden": false
    }
   },
   "outputs": [
    {
     "data": {
      "text/html": [
       "31"
      ],
      "text/latex": [
       "31"
      ],
      "text/markdown": [
       "31"
      ],
      "text/plain": [
       "[1] 31"
      ]
     },
     "metadata": {},
     "output_type": "display_data"
    }
   ],
   "source": [
    "sum(abs(AC))"
   ]
  },
  {
   "cell_type": "markdown",
   "id": "e5c26f18",
   "metadata": {},
   "source": [
    "### 3.5.3 コサイン類似度"
   ]
  },
  {
   "cell_type": "code",
   "execution_count": 115,
   "id": "3b2ba124",
   "metadata": {
    "collapsed": false,
    "jupyter": {
     "outputs_hidden": false
    }
   },
   "outputs": [
    {
     "data": {
      "text/html": [
       "0.816967863264762"
      ],
      "text/latex": [
       "0.816967863264762"
      ],
      "text/markdown": [
       "0.816967863264762"
      ],
      "text/plain": [
       "[1] 0.8169679"
      ]
     },
     "metadata": {},
     "output_type": "display_data"
    }
   ],
   "source": [
    "sum(A * B) / sum(A * A)^0.5 / sum(B * B)^0.5"
   ]
  },
  {
   "cell_type": "code",
   "execution_count": 116,
   "id": "df2c5374",
   "metadata": {
    "collapsed": false,
    "jupyter": {
     "outputs_hidden": false
    }
   },
   "outputs": [
    {
     "data": {
      "text/html": [
       "-0.0240284665666106"
      ],
      "text/latex": [
       "-0.0240284665666106"
      ],
      "text/markdown": [
       "-0.0240284665666106"
      ],
      "text/plain": [
       "[1] -0.02402847"
      ]
     },
     "metadata": {},
     "output_type": "display_data"
    }
   ],
   "source": [
    "sum(A * C) / sum(A * A)^0.5 / sum(B * B)^0.5"
   ]
  },
  {
   "cell_type": "markdown",
   "id": "5d935f25",
   "metadata": {},
   "source": [
    "### 3.5.4 相関係数"
   ]
  },
  {
   "cell_type": "code",
   "execution_count": 117,
   "id": "b9d4c407",
   "metadata": {
    "collapsed": false,
    "jupyter": {
     "outputs_hidden": false
    }
   },
   "outputs": [
    {
     "data": {
      "text/html": [
       "0.88249750329277"
      ],
      "text/latex": [
       "0.88249750329277"
      ],
      "text/markdown": [
       "0.88249750329277"
      ],
      "text/plain": [
       "[1] 0.8824975"
      ]
     },
     "metadata": {},
     "output_type": "display_data"
    }
   ],
   "source": [
    "cor(A, B)"
   ]
  },
  {
   "cell_type": "code",
   "execution_count": 118,
   "id": "c2585fa9",
   "metadata": {
    "collapsed": false,
    "jupyter": {
     "outputs_hidden": false
    }
   },
   "outputs": [
    {
     "data": {
      "text/html": [
       "-0.0326627667232007"
      ],
      "text/latex": [
       "-0.0326627667232007"
      ],
      "text/markdown": [
       "-0.0326627667232007"
      ],
      "text/plain": [
       "[1] -0.03266277"
      ]
     },
     "metadata": {},
     "output_type": "display_data"
    }
   ],
   "source": [
    "cor(A, C)"
   ]
  },
  {
   "cell_type": "markdown",
   "id": "3c98ebb0",
   "metadata": {},
   "source": [
    "### 3.5.5 データフレームを使う方法"
   ]
  },
  {
   "cell_type": "code",
   "execution_count": 119,
   "id": "2bb4cf5c",
   "metadata": {
    "collapsed": false,
    "jupyter": {
     "outputs_hidden": false
    }
   },
   "outputs": [],
   "source": [
    "library(tidyverse)\n",
    "\n",
    "my_df <- data.frame(\n",
    "  c(3,  3,   9),\n",
    "  c(4,  4, -18),\n",
    "  c(5, 29,   8),\n",
    "  row.names = c(\"A\", \"B\", \"C\")\n",
    ")"
   ]
  },
  {
   "cell_type": "code",
   "execution_count": 120,
   "id": "8b5e1488",
   "metadata": {
    "collapsed": false,
    "jupyter": {
     "outputs_hidden": false
    }
   },
   "outputs": [
    {
     "data": {
      "text/plain": [
       "   A  B\n",
       "B 24   \n",
       "C 23 31"
      ]
     },
     "metadata": {},
     "output_type": "display_data"
    }
   ],
   "source": [
    "my_df %>% proxy::dist(\"Euclidean\")"
   ]
  },
  {
   "cell_type": "code",
   "execution_count": 121,
   "id": "e7b8531b",
   "metadata": {
    "collapsed": false,
    "jupyter": {
     "outputs_hidden": false
    }
   },
   "outputs": [
    {
     "data": {
      "text/plain": [
       "   A  B\n",
       "B 24   \n",
       "C 31 49"
      ]
     },
     "metadata": {},
     "output_type": "display_data"
    }
   ],
   "source": [
    "my_df %>% proxy::dist(\"Manhattan\")"
   ]
  },
  {
   "cell_type": "code",
   "execution_count": 122,
   "id": "df922db0",
   "metadata": {
    "collapsed": false,
    "jupyter": {
     "outputs_hidden": false
    }
   },
   "outputs": [
    {
     "data": {
      "text/plain": [
       "            A           B\n",
       "B  0.81696786            \n",
       "C -0.03265116  0.29342441"
      ]
     },
     "metadata": {},
     "output_type": "display_data"
    }
   ],
   "source": [
    "my_df %>% proxy::simil(\"cosine\")"
   ]
  },
  {
   "cell_type": "code",
   "execution_count": 123,
   "id": "2a2623d9",
   "metadata": {
    "collapsed": false,
    "jupyter": {
     "outputs_hidden": false
    }
   },
   "outputs": [
    {
     "data": {
      "text/plain": [
       "            A           B\n",
       "B  0.88249750            \n",
       "C -0.03266277  0.44124132"
      ]
     },
     "metadata": {},
     "output_type": "display_data"
    }
   ],
   "source": [
    "my_df %>% proxy::simil(\"correlation\")"
   ]
  },
  {
   "cell_type": "markdown",
   "id": "d0ef0eb1",
   "metadata": {},
   "source": [
    "## 3.6 R のパッケージ、Python のモジュール"
   ]
  },
  {
   "cell_type": "code",
   "execution_count": 124,
   "id": "54817089",
   "metadata": {
    "collapsed": false,
    "jupyter": {
     "outputs_hidden": false
    }
   },
   "outputs": [],
   "source": [
    "library(tidyverse)"
   ]
  },
  {
   "cell_type": "markdown",
   "id": "1b43fc0b",
   "metadata": {},
   "source": [
    "## 3.7 反復処理"
   ]
  },
  {
   "cell_type": "code",
   "execution_count": 125,
   "id": "4a661d0c",
   "metadata": {
    "collapsed": false,
    "jupyter": {
     "outputs_hidden": false
    }
   },
   "outputs": [],
   "source": [
    "library(tidyverse)"
   ]
  },
  {
   "cell_type": "markdown",
   "id": "c9f503ac",
   "metadata": {},
   "source": [
    "### 3.7.1 指定した回数→1次元データ"
   ]
  },
  {
   "cell_type": "code",
   "execution_count": 126,
   "id": "c551833b",
   "metadata": {
    "collapsed": false,
    "jupyter": {
     "outputs_hidden": false
    }
   },
   "outputs": [
    {
     "data": {
      "text/html": [
       "0.660298883449286"
      ],
      "text/latex": [
       "0.660298883449286"
      ],
      "text/markdown": [
       "0.660298883449286"
      ],
      "text/plain": [
       "[1] 0.6602989"
      ]
     },
     "metadata": {},
     "output_type": "display_data"
    }
   ],
   "source": [
    "f1 <- function(x) {\n",
    "  tmp <- runif(x)\n",
    "  mean(tmp)\n",
    "}\n",
    "\n",
    "f1(10)"
   ]
  },
  {
   "cell_type": "code",
   "execution_count": 127,
   "id": "c57a65ff",
   "metadata": {
    "collapsed": false,
    "jupyter": {
     "outputs_hidden": false
    }
   },
   "outputs": [
    {
     "data": {
      "text/html": [
       "<style>\n",
       ".list-inline {list-style: none; margin:0; padding: 0}\n",
       ".list-inline>li {display: inline-block}\n",
       ".list-inline>li:not(:last-child)::after {content: \"\\00b7\"; padding: 0 .5ex}\n",
       "</style>\n",
       "<ol class=list-inline><li>0.429627122706734</li><li>0.37513197446242</li><li>0.606893466459587</li></ol>\n"
      ],
      "text/latex": [
       "\\begin{enumerate*}\n",
       "\\item 0.429627122706734\n",
       "\\item 0.37513197446242\n",
       "\\item 0.606893466459587\n",
       "\\end{enumerate*}\n"
      ],
      "text/markdown": [
       "1. 0.429627122706734\n",
       "2. 0.37513197446242\n",
       "3. 0.606893466459587\n",
       "\n",
       "\n"
      ],
      "text/plain": [
       "[1] 0.4296271 0.3751320 0.6068935"
      ]
     },
     "metadata": {},
     "output_type": "display_data"
    }
   ],
   "source": [
    "replicate(n = 3, expr = f1(10))"
   ]
  },
  {
   "cell_type": "code",
   "execution_count": 128,
   "id": "0620d20a",
   "metadata": {
    "collapsed": false,
    "jupyter": {
     "outputs_hidden": false
    }
   },
   "outputs": [
    {
     "data": {
      "text/html": [
       "<style>\n",
       ".list-inline {list-style: none; margin:0; padding: 0}\n",
       ".list-inline>li {display: inline-block}\n",
       ".list-inline>li:not(:last-child)::after {content: \"\\00b7\"; padding: 0 .5ex}\n",
       "</style>\n",
       "<ol class=list-inline><li>0.458612815709785</li><li>0.458612815709785</li><li>0.458612815709785</li></ol>\n"
      ],
      "text/latex": [
       "\\begin{enumerate*}\n",
       "\\item 0.458612815709785\n",
       "\\item 0.458612815709785\n",
       "\\item 0.458612815709785\n",
       "\\end{enumerate*}\n"
      ],
      "text/markdown": [
       "1. 0.458612815709785\n",
       "2. 0.458612815709785\n",
       "3. 0.458612815709785\n",
       "\n",
       "\n"
      ],
      "text/plain": [
       "[1] 0.4586128 0.4586128 0.4586128"
      ]
     },
     "metadata": {},
     "output_type": "display_data"
    }
   ],
   "source": [
    "rep(x = f1(10), times = 3)"
   ]
  },
  {
   "cell_type": "markdown",
   "id": "d77a9a8b",
   "metadata": {},
   "source": [
    "### 3.7.2 1次元データ→1次元データ"
   ]
  },
  {
   "cell_type": "code",
   "execution_count": 129,
   "id": "ccfda67f",
   "metadata": {
    "collapsed": false,
    "jupyter": {
     "outputs_hidden": false
    }
   },
   "outputs": [
    {
     "data": {
      "text/html": [
       "<style>\n",
       ".list-inline {list-style: none; margin:0; padding: 0}\n",
       ".list-inline>li {display: inline-block}\n",
       ".list-inline>li:not(:last-child)::after {content: \"\\00b7\"; padding: 0 .5ex}\n",
       "</style>\n",
       "<ol class=list-inline><li>0.618576203240082</li><li>0.409155889833346</li><li>0.465419225164223</li></ol>\n"
      ],
      "text/latex": [
       "\\begin{enumerate*}\n",
       "\\item 0.618576203240082\n",
       "\\item 0.409155889833346\n",
       "\\item 0.465419225164223\n",
       "\\end{enumerate*}\n"
      ],
      "text/markdown": [
       "1. 0.618576203240082\n",
       "2. 0.409155889833346\n",
       "3. 0.465419225164223\n",
       "\n",
       "\n"
      ],
      "text/plain": [
       "[1] 0.6185762 0.4091559 0.4654192"
      ]
     },
     "metadata": {},
     "output_type": "display_data"
    }
   ],
   "source": [
    "v <- c(5, 10, 100)\n",
    "v %>% map_dbl(f1)"
   ]
  },
  {
   "cell_type": "code",
   "execution_count": 130,
   "id": "f20dc3c1",
   "metadata": {
    "collapsed": false,
    "jupyter": {
     "outputs_hidden": false
    }
   },
   "outputs": [
    {
     "data": {
      "text/html": [
       "<style>\n",
       ".list-inline {list-style: none; margin:0; padding: 0}\n",
       ".list-inline>li {display: inline-block}\n",
       ".list-inline>li:not(:last-child)::after {content: \"\\00b7\"; padding: 0 .5ex}\n",
       "</style>\n",
       "<ol class=list-inline><li>0.39415943226777</li><li>0.339538268046454</li><li>0.542419577133842</li></ol>\n"
      ],
      "text/latex": [
       "\\begin{enumerate*}\n",
       "\\item 0.39415943226777\n",
       "\\item 0.339538268046454\n",
       "\\item 0.542419577133842\n",
       "\\end{enumerate*}\n"
      ],
      "text/markdown": [
       "1. 0.39415943226777\n",
       "2. 0.339538268046454\n",
       "3. 0.542419577133842\n",
       "\n",
       "\n"
      ],
      "text/plain": [
       "[1] 0.3941594 0.3395383 0.5424196"
      ]
     },
     "metadata": {},
     "output_type": "display_data"
    }
   ],
   "source": [
    "rep(x = 10, times = 3) %>% map_dbl(f1)"
   ]
  },
  {
   "cell_type": "markdown",
   "id": "f39c8f89",
   "metadata": {},
   "source": [
    "### 3.7.3 1次元データ→データフレーム"
   ]
  },
  {
   "cell_type": "code",
   "execution_count": 131,
   "id": "f06f209a",
   "metadata": {
    "collapsed": false,
    "jupyter": {
     "outputs_hidden": false
    }
   },
   "outputs": [
    {
     "data": {
      "text/html": [
       "<dl>\n",
       "\t<dt>$x</dt>\n",
       "\t\t<dd>10</dd>\n",
       "\t<dt>$p</dt>\n",
       "\t\t<dd>0.389460026682355</dd>\n",
       "\t<dt>$q</dt>\n",
       "\t\t<dd>0.184689308184071</dd>\n",
       "</dl>\n"
      ],
      "text/latex": [
       "\\begin{description}\n",
       "\\item[\\$x] 10\n",
       "\\item[\\$p] 0.389460026682355\n",
       "\\item[\\$q] 0.184689308184071\n",
       "\\end{description}\n"
      ],
      "text/markdown": [
       "$x\n",
       ":   10\n",
       "$p\n",
       ":   0.389460026682355\n",
       "$q\n",
       ":   0.184689308184071\n",
       "\n",
       "\n"
      ],
      "text/plain": [
       "$x\n",
       "[1] 10\n",
       "\n",
       "$p\n",
       "[1] 0.38946\n",
       "\n",
       "$q\n",
       "[1] 0.1846893\n"
      ]
     },
     "metadata": {},
     "output_type": "display_data"
    }
   ],
   "source": [
    "f2 <- function(n) {\n",
    "  tmp <- runif(n)\n",
    "  list(x = n, p = mean(tmp), q = sd(tmp))\n",
    "}\n",
    "\n",
    "f2(10)"
   ]
  },
  {
   "cell_type": "code",
   "execution_count": 132,
   "id": "de80cdfe",
   "metadata": {
    "collapsed": false,
    "jupyter": {
     "outputs_hidden": false
    }
   },
   "outputs": [
    {
     "data": {
      "text/html": [
       "<table class=\"dataframe\">\n",
       "<caption>A tibble: 3 × 3</caption>\n",
       "<thead>\n",
       "\t<tr><th scope=col>x</th><th scope=col>p</th><th scope=col>q</th></tr>\n",
       "\t<tr><th scope=col>&lt;dbl&gt;</th><th scope=col>&lt;dbl&gt;</th><th scope=col>&lt;dbl&gt;</th></tr>\n",
       "</thead>\n",
       "<tbody>\n",
       "\t<tr><td>  5</td><td>0.6752087</td><td>0.3049682</td></tr>\n",
       "\t<tr><td> 10</td><td>0.4837003</td><td>0.2731423</td></tr>\n",
       "\t<tr><td>100</td><td>0.5037231</td><td>0.2682088</td></tr>\n",
       "</tbody>\n",
       "</table>\n"
      ],
      "text/latex": [
       "A tibble: 3 × 3\n",
       "\\begin{tabular}{lll}\n",
       " x & p & q\\\\\n",
       " <dbl> & <dbl> & <dbl>\\\\\n",
       "\\hline\n",
       "\t   5 & 0.6752087 & 0.3049682\\\\\n",
       "\t  10 & 0.4837003 & 0.2731423\\\\\n",
       "\t 100 & 0.5037231 & 0.2682088\\\\\n",
       "\\end{tabular}\n"
      ],
      "text/markdown": [
       "\n",
       "A tibble: 3 × 3\n",
       "\n",
       "| x &lt;dbl&gt; | p &lt;dbl&gt; | q &lt;dbl&gt; |\n",
       "|---|---|---|\n",
       "|   5 | 0.6752087 | 0.3049682 |\n",
       "|  10 | 0.4837003 | 0.2731423 |\n",
       "| 100 | 0.5037231 | 0.2682088 |\n",
       "\n"
      ],
      "text/plain": [
       "  x   p         q        \n",
       "1   5 0.6752087 0.3049682\n",
       "2  10 0.4837003 0.2731423\n",
       "3 100 0.5037231 0.2682088"
      ]
     },
     "metadata": {},
     "output_type": "display_data"
    }
   ],
   "source": [
    "v <- c(5, 10, 100)\n",
    "v %>% map_dfr(f2)"
   ]
  },
  {
   "cell_type": "markdown",
   "id": "7f2e22e7",
   "metadata": {},
   "source": [
    "### 3.7.4 データフレーム→データフレーム"
   ]
  },
  {
   "cell_type": "code",
   "execution_count": 133,
   "id": "68c13010",
   "metadata": {
    "collapsed": false,
    "jupyter": {
     "outputs_hidden": false
    }
   },
   "outputs": [
    {
     "data": {
      "text/html": [
       "<dl>\n",
       "\t<dt>$x</dt>\n",
       "\t\t<dd>10</dd>\n",
       "\t<dt>$y</dt>\n",
       "\t\t<dd>6</dd>\n",
       "\t<dt>$p</dt>\n",
       "\t\t<dd>3.6</dd>\n",
       "\t<dt>$q</dt>\n",
       "\t\t<dd>1.64654520469713</dd>\n",
       "</dl>\n"
      ],
      "text/latex": [
       "\\begin{description}\n",
       "\\item[\\$x] 10\n",
       "\\item[\\$y] 6\n",
       "\\item[\\$p] 3.6\n",
       "\\item[\\$q] 1.64654520469713\n",
       "\\end{description}\n"
      ],
      "text/markdown": [
       "$x\n",
       ":   10\n",
       "$y\n",
       ":   6\n",
       "$p\n",
       ":   3.6\n",
       "$q\n",
       ":   1.64654520469713\n",
       "\n",
       "\n"
      ],
      "text/plain": [
       "$x\n",
       "[1] 10\n",
       "\n",
       "$y\n",
       "[1] 6\n",
       "\n",
       "$p\n",
       "[1] 3.6\n",
       "\n",
       "$q\n",
       "[1] 1.646545\n"
      ]
     },
     "metadata": {},
     "output_type": "display_data"
    }
   ],
   "source": [
    "f3 <- function(x, y) {\n",
    "  tmp <- runif(x, min = 1, max = y + 1) %>% as.integer\n",
    "  list(x = x, y = y, p = mean(tmp), q = sd(tmp))\n",
    "}\n",
    "\n",
    "f3(x = 10, y = 6)"
   ]
  },
  {
   "cell_type": "code",
   "execution_count": 134,
   "id": "9cfdeb02",
   "metadata": {
    "collapsed": false,
    "jupyter": {
     "outputs_hidden": false
    }
   },
   "outputs": [
    {
     "data": {
      "text/html": [
       "<table class=\"dataframe\">\n",
       "<caption>A tibble: 6 × 4</caption>\n",
       "<thead>\n",
       "\t<tr><th scope=col>x</th><th scope=col>y</th><th scope=col>p</th><th scope=col>q</th></tr>\n",
       "\t<tr><th scope=col>&lt;dbl&gt;</th><th scope=col>&lt;dbl&gt;</th><th scope=col>&lt;dbl&gt;</th><th scope=col>&lt;dbl&gt;</th></tr>\n",
       "</thead>\n",
       "<tbody>\n",
       "\t<tr><td>  5</td><td> 6</td><td>4.20</td><td>1.923538</td></tr>\n",
       "\t<tr><td> 10</td><td> 6</td><td>3.00</td><td>2.054805</td></tr>\n",
       "\t<tr><td>100</td><td> 6</td><td>3.56</td><td>1.725156</td></tr>\n",
       "\t<tr><td>  5</td><td>12</td><td>7.00</td><td>1.224745</td></tr>\n",
       "\t<tr><td> 10</td><td>12</td><td>7.30</td><td>4.083844</td></tr>\n",
       "\t<tr><td>100</td><td>12</td><td>6.44</td><td>3.704543</td></tr>\n",
       "</tbody>\n",
       "</table>\n"
      ],
      "text/latex": [
       "A tibble: 6 × 4\n",
       "\\begin{tabular}{llll}\n",
       " x & y & p & q\\\\\n",
       " <dbl> & <dbl> & <dbl> & <dbl>\\\\\n",
       "\\hline\n",
       "\t   5 &  6 & 4.20 & 1.923538\\\\\n",
       "\t  10 &  6 & 3.00 & 2.054805\\\\\n",
       "\t 100 &  6 & 3.56 & 1.725156\\\\\n",
       "\t   5 & 12 & 7.00 & 1.224745\\\\\n",
       "\t  10 & 12 & 7.30 & 4.083844\\\\\n",
       "\t 100 & 12 & 6.44 & 3.704543\\\\\n",
       "\\end{tabular}\n"
      ],
      "text/markdown": [
       "\n",
       "A tibble: 6 × 4\n",
       "\n",
       "| x &lt;dbl&gt; | y &lt;dbl&gt; | p &lt;dbl&gt; | q &lt;dbl&gt; |\n",
       "|---|---|---|---|\n",
       "|   5 |  6 | 4.20 | 1.923538 |\n",
       "|  10 |  6 | 3.00 | 2.054805 |\n",
       "| 100 |  6 | 3.56 | 1.725156 |\n",
       "|   5 | 12 | 7.00 | 1.224745 |\n",
       "|  10 | 12 | 7.30 | 4.083844 |\n",
       "| 100 | 12 | 6.44 | 3.704543 |\n",
       "\n"
      ],
      "text/plain": [
       "  x   y  p    q       \n",
       "1   5  6 4.20 1.923538\n",
       "2  10  6 3.00 2.054805\n",
       "3 100  6 3.56 1.725156\n",
       "4   5 12 7.00 1.224745\n",
       "5  10 12 7.30 4.083844\n",
       "6 100 12 6.44 3.704543"
      ]
     },
     "metadata": {},
     "output_type": "display_data"
    }
   ],
   "source": [
    "my_df <- data.frame(\n",
    "  x = c(5, 10, 100,  5, 10, 100),\n",
    "  y = c(6,  6,   6, 12, 12,  12)\n",
    ")\n",
    "\n",
    "my_df %>% pmap_dfr(f3)"
   ]
  },
  {
   "cell_type": "markdown",
   "id": "ea245d43",
   "metadata": {},
   "source": [
    "### 3.7.5 補足：反復処理の並列化"
   ]
  },
  {
   "cell_type": "code",
   "execution_count": 135,
   "id": "00d58817",
   "metadata": {
    "collapsed": false,
    "jupyter": {
     "outputs_hidden": false
    }
   },
   "outputs": [
    {
     "name": "stderr",
     "output_type": "stream",
     "text": [
      " 要求されたパッケージ future をロード中です \n",
      "\n",
      "\n",
      " 次のパッケージを付け加えます: ‘future’ \n",
      "\n",
      "\n",
      " 以下のオブジェクトは ‘package:keras’ からマスクされています:\n",
      "\n",
      "    %<-%\n",
      "\n",
      "\n"
     ]
    },
    {
     "data": {
      "text/html": [
       "<style>\n",
       ".list-inline {list-style: none; margin:0; padding: 0}\n",
       ".list-inline>li {display: inline-block}\n",
       ".list-inline>li:not(:last-child)::after {content: \"\\00b7\"; padding: 0 .5ex}\n",
       "</style>\n",
       "<ol class=list-inline><li>0.44699210523962</li><li>0.454063158120293</li><li>0.533982579125645</li></ol>\n"
      ],
      "text/latex": [
       "\\begin{enumerate*}\n",
       "\\item 0.44699210523962\n",
       "\\item 0.454063158120293\n",
       "\\item 0.533982579125645\n",
       "\\end{enumerate*}\n"
      ],
      "text/markdown": [
       "1. 0.44699210523962\n",
       "2. 0.454063158120293\n",
       "3. 0.533982579125645\n",
       "\n",
       "\n"
      ],
      "text/plain": [
       "[1] 0.4469921 0.4540632 0.5339826"
      ]
     },
     "metadata": {},
     "output_type": "display_data"
    }
   ],
   "source": [
    "library(furrr)\n",
    "plan(multisession)\n",
    "\n",
    "v <- c(5, 10, 100)\n",
    "v %>% future_map_dbl(f1, .options = furrr_options(seed = TRUE))"
   ]
  },
  {
   "cell_type": "markdown",
   "id": "79f0488e",
   "metadata": {},
   "source": [
    "## 3.8 その他"
   ]
  },
  {
   "cell_type": "markdown",
   "id": "80d15654",
   "metadata": {},
   "source": [
    "### 3.8.2 変数や関数についての調査"
   ]
  },
  {
   "cell_type": "code",
   "execution_count": 136,
   "id": "095320af",
   "metadata": {
    "collapsed": false,
    "jupyter": {
     "outputs_hidden": false
    }
   },
   "outputs": [
    {
     "data": {
      "text/html": [
       "'double'"
      ],
      "text/latex": [
       "'double'"
      ],
      "text/markdown": [
       "'double'"
      ],
      "text/plain": [
       "[1] \"double\""
      ]
     },
     "metadata": {},
     "output_type": "display_data"
    }
   ],
   "source": [
    "x <- 123\n",
    "typeof(x)"
   ]
  },
  {
   "cell_type": "code",
   "execution_count": 137,
   "id": "ed848069",
   "metadata": {
    "collapsed": false,
    "jupyter": {
     "outputs_hidden": false
    }
   },
   "outputs": [
    {
     "data": {
      "text/html": [
       "\n",
       "<table style=\"width: 100%;\"><tr><td>log {base}</td><td style=\"text-align: right;\">R Documentation</td></tr></table>\n",
       "\n",
       "<h2>Logarithms and Exponentials</h2>\n",
       "\n",
       "<h3>Description</h3>\n",
       "\n",
       "<p><code>log</code> computes logarithms, by default natural logarithms,\n",
       "<code>log10</code> computes common (i.e., base 10) logarithms, and\n",
       "<code>log2</code> computes binary (i.e., base 2) logarithms.\n",
       "The general form <code>log(x, base)</code> computes logarithms with base\n",
       "<code>base</code>.\n",
       "</p>\n",
       "<p><code>log1p(x)</code> computes <code class=\"reqn\">\\log(1+x)</code> accurately also for\n",
       "<code class=\"reqn\">|x| \\ll 1</code>.\n",
       "</p>\n",
       "<p><code>exp</code> computes the exponential function.\n",
       "</p>\n",
       "<p><code>expm1(x)</code> computes <code class=\"reqn\">\\exp(x) - 1</code> accurately also for\n",
       "<code class=\"reqn\">|x| \\ll 1</code>.\n",
       "</p>\n",
       "\n",
       "\n",
       "<h3>Usage</h3>\n",
       "\n",
       "<pre><code class='language-R'>log(x, base = exp(1))\n",
       "logb(x, base = exp(1))\n",
       "log10(x)\n",
       "log2(x)\n",
       "\n",
       "log1p(x)\n",
       "\n",
       "exp(x)\n",
       "expm1(x)\n",
       "</code></pre>\n",
       "\n",
       "\n",
       "<h3>Arguments</h3>\n",
       "\n",
       "<table>\n",
       "<tr style=\"vertical-align: top;\"><td><code>x</code></td>\n",
       "<td>\n",
       "<p>a numeric or complex vector.</p>\n",
       "</td></tr>\n",
       "<tr style=\"vertical-align: top;\"><td><code>base</code></td>\n",
       "<td>\n",
       "<p>a positive or complex number: the base with respect to which\n",
       "logarithms are computed.  Defaults to <code class=\"reqn\">e</code>=<code>exp(1)</code>.</p>\n",
       "</td></tr>\n",
       "</table>\n",
       "\n",
       "\n",
       "<h3>Details</h3>\n",
       "\n",
       "<p>All except <code>logb</code> are generic functions: methods can be defined\n",
       "for them individually or via the <code>Math</code>\n",
       "group generic.\n",
       "</p>\n",
       "<p><code>log10</code> and <code>log2</code> are only convenience wrappers, but logs\n",
       "to bases 10 and 2 (whether computed <em>via</em> <code>log</code> or the wrappers)\n",
       "will be computed more efficiently and accurately where supported by the OS.\n",
       "Methods can be set for them individually (and otherwise methods for\n",
       "<code>log</code> will be used).\n",
       "</p>\n",
       "<p><code>logb</code> is a wrapper for <code>log</code> for compatibility with S.  If\n",
       "(S3 or S4) methods are set for <code>log</code> they will be dispatched.\n",
       "Do not set S4 methods on <code>logb</code> itself.\n",
       "</p>\n",
       "<p>All except <code>log</code> are primitive functions.\n",
       "</p>\n",
       "\n",
       "\n",
       "<h3>Value</h3>\n",
       "\n",
       "<p>A vector of the same length as <code>x</code> containing the transformed\n",
       "values.  <code>log(0)</code> gives <code>-Inf</code>, and <code>log(x)</code> for\n",
       "negative values of <code>x</code> is <code>NaN</code>.  <code>exp(-Inf)</code> is <code>0</code>.\n",
       "</p>\n",
       "<p>For complex inputs to the log functions, the value is a complex number\n",
       "with imaginary part in the range <code class=\"reqn\">[-\\pi, \\pi]</code>: which\n",
       "end of the range is used might be platform-specific.\n",
       "</p>\n",
       "\n",
       "\n",
       "<h3>S4 methods</h3>\n",
       "\n",
       "<p><code>exp</code>, <code>expm1</code>, <code>log</code>, <code>log10</code>, <code>log2</code> and\n",
       "<code>log1p</code> are S4 generic and are members of the\n",
       "<code>Math</code> group generic.\n",
       "</p>\n",
       "<p>Note that this means that the S4 generic for <code>log</code> has a\n",
       "signature with only one argument, <code>x</code>, but that <code>base</code> can\n",
       "be passed to methods (but will not be used for method selection).  On\n",
       "the other hand, if you only set a method for the <code>Math</code> group\n",
       "generic then <code>base</code> argument of <code>log</code> will be ignored for\n",
       "your class.\n",
       "</p>\n",
       "\n",
       "\n",
       "<h3>Source</h3>\n",
       "\n",
       "<p><code>log1p</code> and <code>expm1</code> may be taken from the operating system,\n",
       "but if not available there then they are based on the Fortran subroutine\n",
       "<code>dlnrel</code> by W. Fullerton of Los Alamos Scientific Laboratory (see\n",
       "<a href=\"https://www.netlib.org/slatec/fnlib/dlnrel.f\">https://www.netlib.org/slatec/fnlib/dlnrel.f</a>) and (for small x) a\n",
       "single Newton step for the solution of <code>log1p(y) = x</code>\n",
       "respectively.\n",
       "</p>\n",
       "\n",
       "\n",
       "<h3>References</h3>\n",
       "\n",
       "<p>Becker, R. A., Chambers, J. M. and Wilks, A. R. (1988)\n",
       "<em>The New S Language</em>.\n",
       "Wadsworth &amp; Brooks/Cole.\n",
       "(for <code>log</code>, <code>log10</code> and <code>exp</code>.)\n",
       "</p>\n",
       "<p>Chambers, J. M. (1998)\n",
       "<em>Programming with Data.  A Guide to the S Language</em>.\n",
       "Springer. (for <code>logb</code>.)\n",
       "</p>\n",
       "\n",
       "\n",
       "<h3>See Also</h3>\n",
       "\n",
       "<p><code>Trig</code>,\n",
       "<code>sqrt</code>,\n",
       "<code>Arithmetic</code>.\n",
       "</p>\n",
       "\n",
       "\n",
       "<h3>Examples</h3>\n",
       "\n",
       "<pre><code class='language-R'>log(exp(3))\n",
       "log10(1e7) # = 7\n",
       "\n",
       "x &lt;- 10^-(1+2*1:9)\n",
       "cbind(x, log(1+x), log1p(x), exp(x)-1, expm1(x))\n",
       "</code></pre>\n",
       "\n",
       "<hr /><div style=\"text-align: center;\">[Package <em>base</em> version 4.2.2 ]</div>\n",
       "</div>"
      ],
      "text/latex": [
       "\\inputencoding{utf8}\n",
       "\\HeaderA{log}{Logarithms and Exponentials}{log}\n",
       "\\aliasA{exp}{log}{exp}\n",
       "\\aliasA{expm1}{log}{expm1}\n",
       "\\aliasA{log10}{log}{log10}\n",
       "\\aliasA{log1p}{log}{log1p}\n",
       "\\aliasA{log2}{log}{log2}\n",
       "\\aliasA{logb}{log}{logb}\n",
       "\\keyword{math}{log}\n",
       "%\n",
       "\\begin{Description}\\relax\n",
       "\\code{log} computes logarithms, by default natural logarithms,\n",
       "\\code{log10} computes common (i.e., base 10) logarithms, and\n",
       "\\code{log2} computes binary (i.e., base 2) logarithms.\n",
       "The general form \\code{log(x, base)} computes logarithms with base\n",
       "\\code{base}.\n",
       "\n",
       "\\code{log1p(x)} computes \\eqn{\\log(1+x)}{} accurately also for\n",
       "\\eqn{|x| \\ll 1}{}.\n",
       "\n",
       "\\code{exp} computes the exponential function.\n",
       "\n",
       "\\code{expm1(x)} computes \\eqn{\\exp(x) - 1}{} accurately also for\n",
       "\\eqn{|x| \\ll 1}{}.\n",
       "\\end{Description}\n",
       "%\n",
       "\\begin{Usage}\n",
       "\\begin{verbatim}\n",
       "log(x, base = exp(1))\n",
       "logb(x, base = exp(1))\n",
       "log10(x)\n",
       "log2(x)\n",
       "\n",
       "log1p(x)\n",
       "\n",
       "exp(x)\n",
       "expm1(x)\n",
       "\\end{verbatim}\n",
       "\\end{Usage}\n",
       "%\n",
       "\\begin{Arguments}\n",
       "\\begin{ldescription}\n",
       "\\item[\\code{x}] a numeric or complex vector.\n",
       "\\item[\\code{base}] a positive or complex number: the base with respect to which\n",
       "logarithms are computed.  Defaults to \\eqn{e}{}=\\code{exp(1)}.\n",
       "\n",
       "\\end{ldescription}\n",
       "\\end{Arguments}\n",
       "%\n",
       "\\begin{Details}\\relax\n",
       "All except \\code{logb} are generic functions: methods can be defined\n",
       "for them individually or via the \\code{\\LinkA{Math}{S3groupGeneric}}\n",
       "group generic.\n",
       "\n",
       "\\code{log10} and \\code{log2} are only convenience wrappers, but logs\n",
       "to bases 10 and 2 (whether computed \\emph{via} \\code{log} or the wrappers)\n",
       "will be computed more efficiently and accurately where supported by the OS.\n",
       "Methods can be set for them individually (and otherwise methods for\n",
       "\\code{log} will be used).\n",
       "\n",
       "\\code{logb} is a wrapper for \\code{log} for compatibility with S.  If\n",
       "(S3 or S4) methods are set for \\code{log} they will be dispatched.\n",
       "Do not set S4 methods on \\code{logb} itself.\n",
       "\n",
       "All except \\code{log} are \\LinkA{primitive}{primitive} functions.\n",
       "\\end{Details}\n",
       "%\n",
       "\\begin{Value}\n",
       "A vector of the same length as \\code{x} containing the transformed\n",
       "values.  \\code{log(0)} gives \\code{-Inf}, and \\code{log(x)} for\n",
       "negative values of \\code{x} is \\code{NaN}.  \\code{exp(-Inf)} is \\code{0}.\n",
       "\n",
       "For complex inputs to the log functions, the value is a complex number\n",
       "with imaginary part in the range \\eqn{[-\\pi, \\pi]}{}: which\n",
       "end of the range is used might be platform-specific.\n",
       "\\end{Value}\n",
       "%\n",
       "\\begin{Section}{S4 methods}\n",
       "\\code{exp}, \\code{expm1}, \\code{log}, \\code{log10}, \\code{log2} and\n",
       "\\code{log1p} are S4 generic and are members of the\n",
       "\\code{\\LinkA{Math}{S4groupGeneric}} group generic.\n",
       "\n",
       "Note that this means that the S4 generic for \\code{log} has a\n",
       "signature with only one argument, \\code{x}, but that \\code{base} can\n",
       "be passed to methods (but will not be used for method selection).  On\n",
       "the other hand, if you only set a method for the \\code{Math} group\n",
       "generic then \\code{base} argument of \\code{log} will be ignored for\n",
       "your class.\n",
       "\\end{Section}\n",
       "%\n",
       "\\begin{Source}\\relax\n",
       "\\code{log1p} and \\code{expm1} may be taken from the operating system,\n",
       "but if not available there then they are based on the Fortran subroutine\n",
       "\\code{dlnrel} by W. Fullerton of Los Alamos Scientific Laboratory (see\n",
       "\\url{https://www.netlib.org/slatec/fnlib/dlnrel.f}) and (for small x) a\n",
       "single Newton step for the solution of \\code{log1p(y) = x}\n",
       "respectively.\n",
       "\\end{Source}\n",
       "%\n",
       "\\begin{References}\\relax\n",
       "Becker, R. A., Chambers, J. M. and Wilks, A. R. (1988)\n",
       "\\emph{The New S Language}.\n",
       "Wadsworth \\& Brooks/Cole.\n",
       "(for \\code{log}, \\code{log10} and \\code{exp}.)\n",
       "\n",
       "Chambers, J. M. (1998)\n",
       "\\emph{Programming with Data.  A Guide to the S Language}.\n",
       "Springer. (for \\code{logb}.)\n",
       "\\end{References}\n",
       "%\n",
       "\\begin{SeeAlso}\\relax\n",
       "\\code{\\LinkA{Trig}{Trig}},\n",
       "\\code{\\LinkA{sqrt}{sqrt}},\n",
       "\\code{\\LinkA{Arithmetic}{Arithmetic}}.\n",
       "\\end{SeeAlso}\n",
       "%\n",
       "\\begin{Examples}\n",
       "\\begin{ExampleCode}\n",
       "log(exp(3))\n",
       "log10(1e7) # = 7\n",
       "\n",
       "x <- 10^-(1+2*1:9)\n",
       "cbind(x, log(1+x), log1p(x), exp(x)-1, expm1(x))\n",
       "\\end{ExampleCode}\n",
       "\\end{Examples}"
      ],
      "text/plain": [
       "log                    package:base                    R Documentation\n",
       "\n",
       "_\bL_\bo_\bg_\ba_\br_\bi_\bt_\bh_\bm_\bs _\ba_\bn_\bd _\bE_\bx_\bp_\bo_\bn_\be_\bn_\bt_\bi_\ba_\bl_\bs\n",
       "\n",
       "_\bD_\be_\bs_\bc_\br_\bi_\bp_\bt_\bi_\bo_\bn:\n",
       "\n",
       "     ‘log’ computes logarithms, by default natural logarithms, ‘log10’\n",
       "     computes common (i.e., base 10) logarithms, and ‘log2’ computes\n",
       "     binary (i.e., base 2) logarithms.  The general form ‘log(x, base)’\n",
       "     computes logarithms with base ‘base’.\n",
       "\n",
       "     ‘log1p(x)’ computes log(1+x) accurately also for |x| << 1.\n",
       "\n",
       "     ‘exp’ computes the exponential function.\n",
       "\n",
       "     ‘expm1(x)’ computes exp(x) - 1 accurately also for |x| << 1.\n",
       "\n",
       "_\bU_\bs_\ba_\bg_\be:\n",
       "\n",
       "     log(x, base = exp(1))\n",
       "     logb(x, base = exp(1))\n",
       "     log10(x)\n",
       "     log2(x)\n",
       "     \n",
       "     log1p(x)\n",
       "     \n",
       "     exp(x)\n",
       "     expm1(x)\n",
       "     \n",
       "_\bA_\br_\bg_\bu_\bm_\be_\bn_\bt_\bs:\n",
       "\n",
       "       x: a numeric or complex vector.\n",
       "\n",
       "    base: a positive or complex number: the base with respect to which\n",
       "          logarithms are computed.  Defaults to e=‘exp(1)’.\n",
       "\n",
       "_\bD_\be_\bt_\ba_\bi_\bl_\bs:\n",
       "\n",
       "     All except ‘logb’ are generic functions: methods can be defined\n",
       "     for them individually or via the ‘Math’ group generic.\n",
       "\n",
       "     ‘log10’ and ‘log2’ are only convenience wrappers, but logs to\n",
       "     bases 10 and 2 (whether computed _via_ ‘log’ or the wrappers) will\n",
       "     be computed more efficiently and accurately where supported by the\n",
       "     OS.  Methods can be set for them individually (and otherwise\n",
       "     methods for ‘log’ will be used).\n",
       "\n",
       "     ‘logb’ is a wrapper for ‘log’ for compatibility with S.  If (S3 or\n",
       "     S4) methods are set for ‘log’ they will be dispatched.  Do not set\n",
       "     S4 methods on ‘logb’ itself.\n",
       "\n",
       "     All except ‘log’ are primitive functions.\n",
       "\n",
       "_\bV_\ba_\bl_\bu_\be:\n",
       "\n",
       "     A vector of the same length as ‘x’ containing the transformed\n",
       "     values.  ‘log(0)’ gives ‘-Inf’, and ‘log(x)’ for negative values\n",
       "     of ‘x’ is ‘NaN’.  ‘exp(-Inf)’ is ‘0’.\n",
       "\n",
       "     For complex inputs to the log functions, the value is a complex\n",
       "     number with imaginary part in the range [-pi, pi]: which end of\n",
       "     the range is used might be platform-specific.\n",
       "\n",
       "_\bS_\b4 _\bm_\be_\bt_\bh_\bo_\bd_\bs:\n",
       "\n",
       "     ‘exp’, ‘expm1’, ‘log’, ‘log10’, ‘log2’ and ‘log1p’ are S4 generic\n",
       "     and are members of the ‘Math’ group generic.\n",
       "\n",
       "     Note that this means that the S4 generic for ‘log’ has a signature\n",
       "     with only one argument, ‘x’, but that ‘base’ can be passed to\n",
       "     methods (but will not be used for method selection).  On the other\n",
       "     hand, if you only set a method for the ‘Math’ group generic then\n",
       "     ‘base’ argument of ‘log’ will be ignored for your class.\n",
       "\n",
       "_\bS_\bo_\bu_\br_\bc_\be:\n",
       "\n",
       "     ‘log1p’ and ‘expm1’ may be taken from the operating system, but if\n",
       "     not available there then they are based on the Fortran subroutine\n",
       "     ‘dlnrel’ by W. Fullerton of Los Alamos Scientific Laboratory (see\n",
       "     <https://www.netlib.org/slatec/fnlib/dlnrel.f>) and (for small x)\n",
       "     a single Newton step for the solution of ‘log1p(y) = x’\n",
       "     respectively.\n",
       "\n",
       "_\bR_\be_\bf_\be_\br_\be_\bn_\bc_\be_\bs:\n",
       "\n",
       "     Becker, R. A., Chambers, J. M. and Wilks, A. R. (1988) _The New S\n",
       "     Language_.  Wadsworth & Brooks/Cole.  (for ‘log’, ‘log10’ and\n",
       "     ‘exp’.)\n",
       "\n",
       "     Chambers, J. M. (1998) _Programming with Data.  A Guide to the S\n",
       "     Language_.  Springer. (for ‘logb’.)\n",
       "\n",
       "_\bS_\be_\be _\bA_\bl_\bs_\bo:\n",
       "\n",
       "     ‘Trig’, ‘sqrt’, ‘Arithmetic’.\n",
       "\n",
       "_\bE_\bx_\ba_\bm_\bp_\bl_\be_\bs:\n",
       "\n",
       "     log(exp(3))\n",
       "     log10(1e7) # = 7\n",
       "     \n",
       "     x <- 10^-(1+2*1:9)\n",
       "     cbind(x, log(1+x), log1p(x), exp(x)-1, expm1(x))\n",
       "     "
      ]
     },
     "metadata": {},
     "output_type": "display_data"
    }
   ],
   "source": [
    "?log\n",
    "help(log)"
   ]
  },
  {
   "cell_type": "markdown",
   "id": "78ea785f",
   "metadata": {},
   "source": [
    "### 3.8.3 R の NA、Python の nan"
   ]
  },
  {
   "cell_type": "code",
   "execution_count": 138,
   "id": "b2533f80",
   "metadata": {
    "collapsed": false,
    "jupyter": {
     "outputs_hidden": false
    }
   },
   "outputs": [
    {
     "data": {
      "text/html": [
       "<style>\n",
       ".list-inline {list-style: none; margin:0; padding: 0}\n",
       ".list-inline>li {display: inline-block}\n",
       ".list-inline>li:not(:last-child)::after {content: \"\\00b7\"; padding: 0 .5ex}\n",
       "</style>\n",
       "<ol class=list-inline><li>1</li><li>&lt;NA&gt;</li><li>3</li></ol>\n"
      ],
      "text/latex": [
       "\\begin{enumerate*}\n",
       "\\item 1\n",
       "\\item <NA>\n",
       "\\item 3\n",
       "\\end{enumerate*}\n"
      ],
      "text/markdown": [
       "1. 1\n",
       "2. &lt;NA&gt;\n",
       "3. 3\n",
       "\n",
       "\n"
      ],
      "text/plain": [
       "[1]  1 NA  3"
      ]
     },
     "metadata": {},
     "output_type": "display_data"
    }
   ],
   "source": [
    "v <- c(1, NA, 3)\n",
    "v"
   ]
  },
  {
   "cell_type": "code",
   "execution_count": 139,
   "id": "e7b59fd9",
   "metadata": {
    "collapsed": false,
    "jupyter": {
     "outputs_hidden": false
    }
   },
   "outputs": [
    {
     "data": {
      "text/html": [
       "TRUE"
      ],
      "text/latex": [
       "TRUE"
      ],
      "text/markdown": [
       "TRUE"
      ],
      "text/plain": [
       "[1] TRUE"
      ]
     },
     "metadata": {},
     "output_type": "display_data"
    }
   ],
   "source": [
    "is.na(v[2])"
   ]
  },
  {
   "cell_type": "code",
   "execution_count": 140,
   "id": "07c4e76e",
   "metadata": {
    "tags": []
   },
   "outputs": [
    {
     "data": {
      "text/html": [
       "&lt;NA&gt;"
      ],
      "text/latex": [
       "<NA>"
      ],
      "text/markdown": [
       "&lt;NA&gt;"
      ],
      "text/plain": [
       "[1] NA"
      ]
     },
     "metadata": {},
     "output_type": "display_data"
    }
   ],
   "source": [
    "v[2] == NA"
   ]
  }
 ],
 "metadata": {
  "kernelspec": {
   "display_name": "R",
   "language": "R",
   "name": "ir"
  },
  "language_info": {
   "codemirror_mode": "r",
   "file_extension": ".r",
   "mimetype": "text/x-r-source",
   "name": "R",
   "pygments_lexer": "r",
   "version": "4.2.2"
  }
 },
 "nbformat": 4,
 "nbformat_minor": 5
}
